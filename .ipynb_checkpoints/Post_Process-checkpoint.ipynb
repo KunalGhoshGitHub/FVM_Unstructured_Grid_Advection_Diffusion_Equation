{
 "cells": [
  {
   "cell_type": "markdown",
   "id": "b0dceffc",
   "metadata": {},
   "source": [
    "# Importing necessary libraries:"
   ]
  },
  {
   "cell_type": "markdown",
   "id": "0d4e9f69",
   "metadata": {},
   "source": [
    "******************************************************"
   ]
  },
  {
   "cell_type": "code",
   "execution_count": 1,
   "id": "4ee0141c",
   "metadata": {},
   "outputs": [],
   "source": [
    "import numpy as np"
   ]
  },
  {
   "cell_type": "code",
   "execution_count": 2,
   "id": "846bc60b",
   "metadata": {},
   "outputs": [],
   "source": [
    "import matplotlib.pyplot as plt"
   ]
  },
  {
   "cell_type": "code",
   "execution_count": 3,
   "id": "5619448b-f1bc-4052-b8c9-070eb01a0366",
   "metadata": {},
   "outputs": [],
   "source": [
    "import matplotlib"
   ]
  },
  {
   "cell_type": "code",
   "execution_count": 4,
   "id": "f88fdd88-1b8a-4f55-818d-63fb31387dd2",
   "metadata": {},
   "outputs": [],
   "source": [
    "from matplotlib.colors import Normalize"
   ]
  },
  {
   "cell_type": "markdown",
   "id": "123e8d46",
   "metadata": {},
   "source": [
    "# Post Processing:"
   ]
  },
  {
   "cell_type": "markdown",
   "id": "8cf03872",
   "metadata": {},
   "source": [
    "**************************************************"
   ]
  },
  {
   "cell_type": "code",
   "execution_count": 5,
   "id": "1ab01748",
   "metadata": {},
   "outputs": [],
   "source": [
    "def Post_Process(phi,string,Element_Node_Connectivity_new,Node_Coordinates,Img_file):\n",
    "    \"\"\"\n",
    "    Input:\n",
    "    phi: Scalar\n",
    "    string: String for the title\n",
    "    Element_Node_Connectivity_new:\n",
    "    Node_Coordinates:\n",
    "    \n",
    "    Output:\n",
    "    A contour plot showing the value of phi in different elements\n",
    "    \"\"\"\n",
    "    \n",
    "    temp = np.zeros((4,2))\n",
    "    x = Node_Coordinates[:,0]\n",
    "    y = Node_Coordinates[:,1]\n",
    "    # cmap = \"YlGn\"\n",
    "    # cmap = \"viridis\"\n",
    "    # cmap = \"rainbow\"\n",
    "    # cmap = \"jet\"\n",
    "    cmap = \"turbo\"\n",
    "\n",
    "    cmap = matplotlib.colormaps.get_cmap(cmap)\n",
    "    \n",
    "    norm = Normalize(vmin=min(phi), vmax=max(phi))  # Normalize the scalar values\n",
    "\n",
    "    fig, ax = plt.subplots()\n",
    "    \n",
    "    for i in range(Element_Node_Connectivity_new.shape[0]):\n",
    "        Nodes = Element_Node_Connectivity_new[i,1:]\n",
    "        Nodes = np.array(Nodes,dtype = int)\n",
    "        temp[:3,0] = x[Nodes]\n",
    "        temp[:3,1] = y[Nodes]\n",
    "        temp[-1,0] = x[Nodes[0]]\n",
    "        temp[-1,1] = y[Nodes[0]]\n",
    "        X = temp[:,0]\n",
    "        Y = temp[:,1]\n",
    "        ax.plot(X,Y,\"k\")\n",
    "        # color = plt.cm.get_cmap(cmap)((phi[i] - min(phi)) / (max(phi) - min(phi)))\n",
    "        color = cmap(norm(phi[i]))\n",
    "        \n",
    "        ax.fill(X,Y,color=color,linewidth = 1)\n",
    "        \n",
    "        # Debug Script:\n",
    "        # plt.plot(x[Nodes[0]],y[Nodes[0]],\"-b*\")\n",
    "        \n",
    "    scalar_map = plt.cm.ScalarMappable(cmap=cmap,norm=plt.Normalize(vmin=min(phi), vmax=max(phi)))\n",
    "    scalar_map.set_array(phi)\n",
    "    plt.colorbar(scalar_map,ax = ax)\n",
    "    # cbar = plt.colorbar(scalar_map)\n",
    "    # cbar.set_label(r'$\\Phi$: '+string)\n",
    "    plt.title(string)\n",
    "    plt.axis(\"scaled\")\n",
    "    plt.savefig(Img_file)\n",
    "    # plt.show()\n",
    "    plt.close()"
   ]
  },
  {
   "cell_type": "code",
   "execution_count": 6,
   "id": "56efe972-083d-448c-8ff1-1857517f42da",
   "metadata": {},
   "outputs": [],
   "source": [
    "def Post_Process_Without_Grid(phi,string,Element_Node_Connectivity_new,Node_Coordinates,Img_file):\n",
    "    \"\"\"\n",
    "    Input:\n",
    "    phi: Scalar\n",
    "    string: String for the title\n",
    "    Element_Node_Connectivity_new:\n",
    "    Node_Coordinates:\n",
    "    \n",
    "    Output:\n",
    "    A contour plot showing the value of phi in different elements\n",
    "    \"\"\"\n",
    "    \n",
    "    temp = np.zeros((4,2))\n",
    "    x = Node_Coordinates[:,0]\n",
    "    y = Node_Coordinates[:,1]\n",
    "    # cmap = \"YlGn\"\n",
    "    # cmap = \"viridis\"\n",
    "    # cmap = \"rainbow\"\n",
    "    # cmap = \"jet\"\n",
    "    cmap = \"turbo\"\n",
    "\n",
    "    cmap = matplotlib.colormaps.get_cmap(cmap)\n",
    "    \n",
    "    norm = Normalize(vmin=min(phi), vmax=max(phi))  # Normalize the scalar values\n",
    "\n",
    "    fig, ax = plt.subplots()\n",
    "    \n",
    "    for i in range(Element_Node_Connectivity_new.shape[0]):\n",
    "        Nodes = Element_Node_Connectivity_new[i,1:]\n",
    "        Nodes = np.array(Nodes,dtype = int)\n",
    "        temp[:3,0] = x[Nodes]\n",
    "        temp[:3,1] = y[Nodes]\n",
    "        temp[-1,0] = x[Nodes[0]]\n",
    "        temp[-1,1] = y[Nodes[0]]\n",
    "        X = temp[:,0]\n",
    "        Y = temp[:,1]\n",
    "        # ax.plot(X,Y,\"k\")\n",
    "        # color = plt.cm.get_cmap(cmap)((phi[i] - min(phi)) / (max(phi) - min(phi)))\n",
    "        color = cmap(norm(phi[i]))\n",
    "        \n",
    "        ax.fill(X,Y,color=color)\n",
    "        \n",
    "        # Debug Script:\n",
    "        # plt.plot(x[Nodes[0]],y[Nodes[0]],\"-b*\")\n",
    "        \n",
    "    scalar_map = plt.cm.ScalarMappable(cmap=cmap,norm=plt.Normalize(vmin=min(phi), vmax=max(phi)))\n",
    "    scalar_map.set_array(phi)\n",
    "    plt.colorbar(scalar_map,ax = ax)\n",
    "    # cbar = plt.colorbar(scalar_map)\n",
    "    # cbar.set_label(r'$\\Phi$: '+string)\n",
    "    plt.title(string)\n",
    "    plt.axis(\"scaled\")\n",
    "    plt.savefig(Img_file)\n",
    "    # plt.show()\n",
    "    plt.close()"
   ]
  }
 ],
 "metadata": {
  "kernelspec": {
   "display_name": "Python 3 (ipykernel)",
   "language": "python",
   "name": "python3"
  },
  "language_info": {
   "codemirror_mode": {
    "name": "ipython",
    "version": 3
   },
   "file_extension": ".py",
   "mimetype": "text/x-python",
   "name": "python",
   "nbconvert_exporter": "python",
   "pygments_lexer": "ipython3",
   "version": "3.11.7"
  }
 },
 "nbformat": 4,
 "nbformat_minor": 5
}
