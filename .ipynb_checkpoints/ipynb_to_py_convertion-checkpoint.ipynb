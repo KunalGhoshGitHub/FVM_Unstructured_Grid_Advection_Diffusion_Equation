{
 "cells": [
  {
   "cell_type": "markdown",
   "id": "e498f12f-e6d8-40c4-a7e2-0b03ab77c1f4",
   "metadata": {},
   "source": [
    "# Importing necessary libraries:"
   ]
  },
  {
   "cell_type": "markdown",
   "id": "dc61a0aa-0f71-4419-8a5d-61c7b8cbffab",
   "metadata": {},
   "source": [
    "*************************"
   ]
  },
  {
   "cell_type": "code",
   "execution_count": 6,
   "id": "e6c0c065-da76-4f4e-a2c6-0a6464d35b71",
   "metadata": {},
   "outputs": [],
   "source": [
    "import subprocess"
   ]
  },
  {
   "cell_type": "code",
   "execution_count": 7,
   "id": "138c52d8-e841-48b6-b36f-d82e0b76d901",
   "metadata": {},
   "outputs": [],
   "source": [
    "import os"
   ]
  },
  {
   "cell_type": "code",
   "execution_count": 8,
   "id": "6c88bf8a-f6dc-443b-93f5-27d8e5b026ab",
   "metadata": {},
   "outputs": [],
   "source": [
    "Files = os.listdir(\".\")"
   ]
  },
  {
   "cell_type": "markdown",
   "id": "94afd46c-0a21-4966-a80d-df916906f50f",
   "metadata": {},
   "source": [
    "# Getting the jupyter-notebooks"
   ]
  },
  {
   "cell_type": "markdown",
   "id": "95a99f04-da9a-485f-994e-71987907ab6e",
   "metadata": {},
   "source": [
    "********************"
   ]
  },
  {
   "cell_type": "code",
   "execution_count": 9,
   "id": "2ab8f9ee-e3e6-422c-98db-ac08f734dfc9",
   "metadata": {},
   "outputs": [],
   "source": [
    "ipynb_Files = []\n",
    "for file in Files:\n",
    "    extension = file[-5:]\n",
    "    if extension == \"ipynb\":\n",
    "        ipynb_Files.append(file)"
   ]
  },
  {
   "cell_type": "markdown",
   "id": "9a646681-5ea0-4a2d-aa01-04d9906d0d5a",
   "metadata": {},
   "source": [
    "# Getting the jupyter-notebooks to python scripts"
   ]
  },
  {
   "cell_type": "markdown",
   "id": "3e8c62b8-bc5a-4f23-85b5-48ee3f8d408e",
   "metadata": {},
   "source": [
    "***************************"
   ]
  },
  {
   "cell_type": "code",
   "execution_count": 10,
   "id": "9af12896-7561-4ef2-bff6-989a6f413f7e",
   "metadata": {},
   "outputs": [
    {
     "name": "stdout",
     "output_type": "stream",
     "text": [
      "Converting the jupyter-notebook: DGen_.ipynb to python file: DGen_\n"
     ]
    },
    {
     "name": "stderr",
     "output_type": "stream",
     "text": [
      "[NbConvertApp] Converting notebook DGen_.ipynb to script\n",
      "[NbConvertApp] Writing 1902 bytes to DGen_.py\n"
     ]
    },
    {
     "name": "stdout",
     "output_type": "stream",
     "text": [
      "Converted the jupyter-notebook: DGen_.ipynb to python file: DGen_\n",
      "Converting the jupyter-notebook: Source_Term.ipynb to python file: Source_Term\n"
     ]
    },
    {
     "name": "stderr",
     "output_type": "stream",
     "text": [
      "[NbConvertApp] Converting notebook Source_Term.ipynb to script\n",
      "[NbConvertApp] Writing 4531 bytes to Source_Term.py\n"
     ]
    },
    {
     "name": "stdout",
     "output_type": "stream",
     "text": [
      "Converted the jupyter-notebook: Source_Term.ipynb to python file: Source_Term\n",
      "Converting the jupyter-notebook: Error_Evaluate.ipynb to python file: Error_Evaluate\n"
     ]
    },
    {
     "name": "stderr",
     "output_type": "stream",
     "text": [
      "[NbConvertApp] Converting notebook Error_Evaluate.ipynb to script\n",
      "[NbConvertApp] Writing 1244 bytes to Error_Evaluate.py\n"
     ]
    },
    {
     "name": "stdout",
     "output_type": "stream",
     "text": [
      "Converted the jupyter-notebook: Error_Evaluate.ipynb to python file: Error_Evaluate\n",
      "Converting the jupyter-notebook: Error_Estimate.ipynb to python file: Error_Estimate\n"
     ]
    },
    {
     "name": "stderr",
     "output_type": "stream",
     "text": [
      "[NbConvertApp] Converting notebook Error_Estimate.ipynb to script\n",
      "[NbConvertApp] Writing 1519 bytes to Error_Estimate.py\n"
     ]
    },
    {
     "name": "stdout",
     "output_type": "stream",
     "text": [
      "Converted the jupyter-notebook: Error_Estimate.ipynb to python file: Error_Estimate\n",
      "Converting the jupyter-notebook: Mesh_Preprocess.ipynb to python file: Mesh_Preprocess\n"
     ]
    },
    {
     "name": "stderr",
     "output_type": "stream",
     "text": [
      "[NbConvertApp] Converting notebook Mesh_Preprocess.ipynb to script\n",
      "[NbConvertApp] Writing 58203 bytes to Mesh_Preprocess.py\n"
     ]
    },
    {
     "name": "stdout",
     "output_type": "stream",
     "text": [
      "Converted the jupyter-notebook: Mesh_Preprocess.ipynb to python file: Mesh_Preprocess\n",
      "Converting the jupyter-notebook: Solver.ipynb to python file: Solver\n"
     ]
    },
    {
     "name": "stderr",
     "output_type": "stream",
     "text": [
      "[NbConvertApp] Converting notebook Solver.ipynb to script\n",
      "[NbConvertApp] Writing 9157 bytes to Solver.py\n"
     ]
    },
    {
     "name": "stdout",
     "output_type": "stream",
     "text": [
      "Converted the jupyter-notebook: Solver.ipynb to python file: Solver\n",
      "Converting the jupyter-notebook: Analytical_Solution_Contour_Plot.ipynb to python file: Analytical_Solution_Contour_Plot\n"
     ]
    },
    {
     "name": "stderr",
     "output_type": "stream",
     "text": [
      "[NbConvertApp] Converting notebook Analytical_Solution_Contour_Plot.ipynb to script\n",
      "[NbConvertApp] Writing 920 bytes to Analytical_Solution_Contour_Plot.py\n"
     ]
    },
    {
     "name": "stdout",
     "output_type": "stream",
     "text": [
      "Converted the jupyter-notebook: Analytical_Solution_Contour_Plot.ipynb to python file: Analytical_Solution_Contour_Plot\n",
      "Converting the jupyter-notebook: ipynb_to_py_convertion.ipynb to python file: ipynb_to_py_convertion\n"
     ]
    },
    {
     "name": "stderr",
     "output_type": "stream",
     "text": [
      "[NbConvertApp] Converting notebook ipynb_to_py_convertion.ipynb to script\n",
      "[NbConvertApp] Writing 1011 bytes to ipynb_to_py_convertion.py\n"
     ]
    },
    {
     "name": "stdout",
     "output_type": "stream",
     "text": [
      "Converted the jupyter-notebook: ipynb_to_py_convertion.ipynb to python file: ipynb_to_py_convertion\n",
      "Converting the jupyter-notebook: Post_Process.ipynb to python file: Post_Process\n"
     ]
    },
    {
     "name": "stderr",
     "output_type": "stream",
     "text": [
      "[NbConvertApp] Converting notebook Post_Process.ipynb to script\n",
      "[NbConvertApp] Writing 3548 bytes to Post_Process.py\n"
     ]
    },
    {
     "name": "stdout",
     "output_type": "stream",
     "text": [
      "Converted the jupyter-notebook: Post_Process.ipynb to python file: Post_Process\n",
      "Converting the jupyter-notebook: Ajay_Mesh_Adaptation_with_Embedded_Error_Mod_Grad_Area_Testing_1.ipynb to python file: Ajay_Mesh_Adaptation_with_Embedded_Error_Mod_Grad_Area_Testing_1\n"
     ]
    },
    {
     "name": "stderr",
     "output_type": "stream",
     "text": [
      "[NbConvertApp] Converting notebook Ajay_Mesh_Adaptation_with_Embedded_Error_Mod_Grad_Area_Testing_1.ipynb to script\n",
      "[NbConvertApp] Writing 108933 bytes to Ajay_Mesh_Adaptation_with_Embedded_Error_Mod_Grad_Area_Testing_1.py\n"
     ]
    },
    {
     "name": "stdout",
     "output_type": "stream",
     "text": [
      "Converted the jupyter-notebook: Ajay_Mesh_Adaptation_with_Embedded_Error_Mod_Grad_Area_Testing_1.ipynb to python file: Ajay_Mesh_Adaptation_with_Embedded_Error_Mod_Grad_Area_Testing_1\n",
      "Converting the jupyter-notebook: Metric_Calculate.ipynb to python file: Metric_Calculate\n"
     ]
    },
    {
     "name": "stderr",
     "output_type": "stream",
     "text": [
      "[NbConvertApp] Converting notebook Metric_Calculate.ipynb to script\n",
      "[NbConvertApp] Writing 4401 bytes to Metric_Calculate.py\n"
     ]
    },
    {
     "name": "stdout",
     "output_type": "stream",
     "text": [
      "Converted the jupyter-notebook: Metric_Calculate.ipynb to python file: Metric_Calculate\n",
      "Converting the jupyter-notebook: Analytical_Sol.ipynb to python file: Analytical_Sol\n"
     ]
    },
    {
     "name": "stderr",
     "output_type": "stream",
     "text": [
      "[NbConvertApp] Converting notebook Analytical_Sol.ipynb to script\n",
      "[NbConvertApp] Writing 2188 bytes to Analytical_Sol.py\n"
     ]
    },
    {
     "name": "stdout",
     "output_type": "stream",
     "text": [
      "Converted the jupyter-notebook: Analytical_Sol.ipynb to python file: Analytical_Sol\n",
      "Converting the jupyter-notebook: Solver_Control.ipynb to python file: Solver_Control\n"
     ]
    },
    {
     "name": "stderr",
     "output_type": "stream",
     "text": [
      "[NbConvertApp] Converting notebook Solver_Control.ipynb to script\n",
      "[NbConvertApp] Writing 1186 bytes to Solver_Control.py\n"
     ]
    },
    {
     "name": "stdout",
     "output_type": "stream",
     "text": [
      "Converted the jupyter-notebook: Solver_Control.ipynb to python file: Solver_Control\n",
      "Converting the jupyter-notebook: Solver_Adapt.ipynb to python file: Solver_Adapt\n"
     ]
    },
    {
     "name": "stderr",
     "output_type": "stream",
     "text": [
      "[NbConvertApp] Converting notebook Solver_Adapt.ipynb to script\n",
      "[NbConvertApp] Writing 11741 bytes to Solver_Adapt.py\n"
     ]
    },
    {
     "name": "stdout",
     "output_type": "stream",
     "text": [
      "Converted the jupyter-notebook: Solver_Adapt.ipynb to python file: Solver_Adapt\n",
      "Converting the jupyter-notebook: LS_Solver.ipynb to python file: LS_Solver\n"
     ]
    },
    {
     "name": "stderr",
     "output_type": "stream",
     "text": [
      "[NbConvertApp] Converting notebook LS_Solver.ipynb to script\n",
      "[NbConvertApp] Writing 2548 bytes to LS_Solver.py\n"
     ]
    },
    {
     "name": "stdout",
     "output_type": "stream",
     "text": [
      "Converted the jupyter-notebook: LS_Solver.ipynb to python file: LS_Solver\n",
      "Converting the jupyter-notebook: Advec_Diff_Solver.ipynb to python file: Advec_Diff_Solver\n"
     ]
    },
    {
     "name": "stderr",
     "output_type": "stream",
     "text": [
      "[NbConvertApp] Converting notebook Advec_Diff_Solver.ipynb to script\n"
     ]
    },
    {
     "name": "stdout",
     "output_type": "stream",
     "text": [
      "Converted the jupyter-notebook: Advec_Diff_Solver.ipynb to python file: Advec_Diff_Solver\n"
     ]
    },
    {
     "name": "stderr",
     "output_type": "stream",
     "text": [
      "[NbConvertApp] Writing 23867 bytes to Advec_Diff_Solver.py\n"
     ]
    }
   ],
   "source": [
    "for file in ipynb_Files:\n",
    "    \n",
    "    # jupyter-notebook need to be converted\n",
    "    jupyter_notebook_file = file\n",
    "    \n",
    "    # Do NOT add the extension *.py as it will be taken care by the command itself\n",
    "    py_file = file[:-6]\n",
    "\n",
    "    # print(f\"Converting the jupyter-notebook: {jupyter_notebook_file} to python file: {py_file}\")\n",
    "\n",
    "    subprocess.run(f\"jupyter nbconvert --to script {jupyter_notebook_file} --output {py_file}\",shell = True)\n",
    "\n",
    "    # print(f\"Converted the jupyter-notebook: {jupyter_notebook_file} to python file: {py_file}\")"
   ]
  },
  {
   "cell_type": "code",
   "execution_count": null,
   "id": "54eef1a8-94e0-44d6-adaf-30b46347a268",
   "metadata": {},
   "outputs": [],
   "source": []
  }
 ],
 "metadata": {
  "kernelspec": {
   "display_name": "Python 3 (ipykernel)",
   "language": "python",
   "name": "python3"
  },
  "language_info": {
   "codemirror_mode": {
    "name": "ipython",
    "version": 3
   },
   "file_extension": ".py",
   "mimetype": "text/x-python",
   "name": "python",
   "nbconvert_exporter": "python",
   "pygments_lexer": "ipython3",
   "version": "3.11.7"
  }
 },
 "nbformat": 4,
 "nbformat_minor": 5
}
