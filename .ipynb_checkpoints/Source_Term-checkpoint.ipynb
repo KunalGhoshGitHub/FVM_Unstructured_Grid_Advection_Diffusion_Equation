{
 "cells": [
  {
   "cell_type": "markdown",
   "id": "b0dceffc",
   "metadata": {},
   "source": [
    "# Importing necessary libraries:"
   ]
  },
  {
   "cell_type": "markdown",
   "id": "0d4e9f69",
   "metadata": {},
   "source": [
    "******************************************************"
   ]
  },
  {
   "cell_type": "code",
   "execution_count": 1,
   "id": "4ee0141c",
   "metadata": {},
   "outputs": [],
   "source": [
    "import numpy as np"
   ]
  },
  {
   "cell_type": "code",
   "execution_count": 2,
   "id": "d82dc8ff-85df-44ca-ad72-cc18aa3ebaae",
   "metadata": {},
   "outputs": [],
   "source": [
    "from numba import jit"
   ]
  },
  {
   "cell_type": "markdown",
   "id": "5c392f88",
   "metadata": {},
   "source": [
    "*********************************************"
   ]
  },
  {
   "cell_type": "markdown",
   "id": "40ee4ed0",
   "metadata": {},
   "source": [
    "# Calculating the source term:"
   ]
  },
  {
   "cell_type": "markdown",
   "id": "0ece64ce",
   "metadata": {},
   "source": [
    "*************************************"
   ]
  },
  {
   "cell_type": "markdown",
   "id": "5b9600cc",
   "metadata": {},
   "source": [
    "## Assume the solution is $$\\phi = \\left(x+\\frac{e^{\\frac{ux}{\\Gamma^{\\phi}}}-1}{1-e^{\\frac{u}{\\Gamma^{\\phi}}}}\\right)\\left(y+\\frac{e^{\\frac{vy}{\\Gamma^{\\phi}}}-1}{1-e^{\\frac{v}{\\Gamma^{\\phi}}}}\\right)$$ "
   ]
  },
  {
   "cell_type": "markdown",
   "id": "7b8efb13",
   "metadata": {},
   "source": [
    "##  Then put it in the equation to get the source term"
   ]
  },
  {
   "cell_type": "code",
   "execution_count": 3,
   "id": "32297cc6",
   "metadata": {},
   "outputs": [],
   "source": [
    "@jit(nopython=True)\n",
    "def Source_Cal_diff(x,y,Gamma_phi,u,v):\n",
    "    \"\"\"\n",
    "    Input:\n",
    "    x: x-coordinate of the centroid of the element\n",
    "    y: y-coordinate of the centroid of the element\n",
    "    Gamma_phi: Diffusion coefficient\n",
    "    \n",
    "    Output:\n",
    "    source: soruce evaluated at the centroid of the element\n",
    "    \"\"\"\n",
    "    term_x = (x + (((np.exp(u*x/Gamma_phi) - 1))/(1-(np.exp(u/Gamma_phi)))))\n",
    "    term_y = (y + (((np.exp(v*y/Gamma_phi) - 1))/(1-(np.exp(v/Gamma_phi)))))\n",
    "    term_x_derivative = (1 + (((u/Gamma_phi)*(np.exp(u*x/Gamma_phi)))/(1-(np.exp(u/Gamma_phi)))))\n",
    "    term_x_d_derivative = (((((u/Gamma_phi)**2)*(np.exp(u*x/Gamma_phi)))/(1-(np.exp(u/Gamma_phi)))))\n",
    "    term_y_derivative = (1 + (((v/Gamma_phi)*(np.exp(v*y/Gamma_phi)))/(1-(np.exp(v/Gamma_phi)))))\n",
    "    term_y_d_derivative = (((((v/Gamma_phi)**2)*(np.exp(v*y/Gamma_phi)))/(1-(np.exp(v/Gamma_phi)))))\n",
    "    source = Gamma_phi*((term_x_d_derivative*term_y) + (term_x*term_y_d_derivative))\n",
    "    return source"
   ]
  },
  {
   "cell_type": "code",
   "execution_count": 4,
   "id": "0408a846",
   "metadata": {},
   "outputs": [],
   "source": [
    "@jit(nopython=True)\n",
    "def Source_Cal_diff_Elements(Num_Triangles,Element_cen,Gamma_phi,u,v):\n",
    "    \"\"\"\n",
    "    Input:\n",
    "    Num_Triangles: Number of triangles\n",
    "    Element_cen: Centroid of the elements\n",
    "    Gamma_phi: Diffusion coefficient\n",
    "    \n",
    "    Output:\n",
    "    Element_Source: Format:  [Element,Source]\n",
    "    \"\"\"\n",
    "    Element_Source = np.zeros((Num_Triangles,2))\n",
    "    \n",
    "    for i in range(Num_Triangles):\n",
    "        Element = Element_cen[i,0]\n",
    "        Cen = Element_cen[i,1:]\n",
    "        x,y = Cen\n",
    "        Source = Source_Cal_diff(x,y,Gamma_phi,u,v)\n",
    "        Element_Source[i,0] = Element\n",
    "        Element_Source[i,1] = Source\n",
    "        \n",
    "    return Element_Source"
   ]
  },
  {
   "cell_type": "code",
   "execution_count": 5,
   "id": "ba3b2d2d",
   "metadata": {},
   "outputs": [],
   "source": [
    "@jit(nopython=True)\n",
    "def Source_Cal_advec(x,y,rho,Gamma_phi,u,v):\n",
    "    \"\"\"\n",
    "    Input:\n",
    "    x: x-coordinate of the centroid of the element\n",
    "    y: y-coordinate of the centroid of the element\n",
    "    Gamma_phi: Diffusion coefficient\n",
    "    \n",
    "    Output:\n",
    "    source: soruce evaluated at the centroid of the element\n",
    "    \"\"\"\n",
    "    term_x = (x + (((np.exp(u*x/Gamma_phi) - 1))/(1-(np.exp(u/Gamma_phi)))))\n",
    "    term_y = (y + (((np.exp(v*y/Gamma_phi) - 1))/(1-(np.exp(v/Gamma_phi)))))\n",
    "    term_x_derivative = (1 + (((u/Gamma_phi)*(np.exp(u*x/Gamma_phi)))/(1-(np.exp(u/Gamma_phi)))))\n",
    "    term_x_d_derivative = (((((u/Gamma_phi)**2)*(np.exp(u*x/Gamma_phi)))/(1-(np.exp(u/Gamma_phi)))))\n",
    "    term_y_derivative = (1 + (((v/Gamma_phi)*(np.exp(v*y/Gamma_phi)))/(1-(np.exp(v/Gamma_phi)))))\n",
    "    term_y_d_derivative = (((((v/Gamma_phi)**2)*(np.exp(v*y/Gamma_phi)))/(1-(np.exp(v/Gamma_phi)))))\n",
    "    source = (rho*u*term_x_derivative*term_y) + (rho*v*term_x*term_y_derivative)\n",
    "    return source"
   ]
  },
  {
   "cell_type": "code",
   "execution_count": 6,
   "id": "5f016bb1",
   "metadata": {},
   "outputs": [],
   "source": [
    "@jit(nopython=True)\n",
    "def Source_Cal_advec_Elements(Num_Triangles,Element_cen,rho,Gamma_phi,u,v):\n",
    "    \"\"\"\n",
    "    Input:\n",
    "    Num_Triangles: Number of triangles\n",
    "    Element_cen: Centroid of the elements\n",
    "    Gamma_phi: Diffusion coefficient\n",
    "    \n",
    "    Output:\n",
    "    Element_Source: Format:  [Element,Source]\n",
    "    \"\"\"\n",
    "    Element_Source = np.zeros((Num_Triangles,2))\n",
    "    \n",
    "    for i in range(Num_Triangles):\n",
    "        Element = Element_cen[i,0]\n",
    "        Cen = Element_cen[i,1:]\n",
    "        x,y = Cen\n",
    "        Source = Source_Cal_advec(x,y,rho,Gamma_phi,u,v)\n",
    "        Element_Source[i,0] = Element\n",
    "        Element_Source[i,1] = Source\n",
    "        \n",
    "    return Element_Source"
   ]
  },
  {
   "cell_type": "code",
   "execution_count": 7,
   "id": "d7777d25",
   "metadata": {},
   "outputs": [],
   "source": [
    "@jit(nopython=True)\n",
    "def Elements_Mass_Calculate(rho,Element_Area):\n",
    "    \"\"\"\n",
    "    Input: \n",
    "    rho: Density\n",
    "    Element_Area: Area of the element\n",
    "    \n",
    "    Output:\n",
    "    Element_Mass: Format: [Element, Mass]\n",
    "    \"\"\"\n",
    "    Element_Mass = Element_Area.copy()\n",
    "    Element_Mass[:,1] = Element_Area[:,1]*rho\n",
    "\n",
    "    return Element_Mass"
   ]
  },
  {
   "cell_type": "code",
   "execution_count": 8,
   "id": "5874cb74",
   "metadata": {},
   "outputs": [],
   "source": [
    "@jit(nopython=True)\n",
    "def Source_Term_Elements(rho,Element_Area,Element_Source):\n",
    "    \"\"\"\n",
    "    Input: \n",
    "    rho: Density\n",
    "    Element_Area: Area of the element\n",
    "    Element_Source Source at the centroid of the element\n",
    "    \n",
    "    Output:\n",
    "    Source_Term: 1D array\n",
    "    \"\"\"\n",
    "    \n",
    "    Source_Term = (Element_Source[:,1]*Element_Area[:,1])\n",
    "    return Source_Term"
   ]
  }
 ],
 "metadata": {
  "kernelspec": {
   "display_name": "Python 3 (ipykernel)",
   "language": "python",
   "name": "python3"
  },
  "language_info": {
   "codemirror_mode": {
    "name": "ipython",
    "version": 3
   },
   "file_extension": ".py",
   "mimetype": "text/x-python",
   "name": "python",
   "nbconvert_exporter": "python",
   "pygments_lexer": "ipython3",
   "version": "3.11.7"
  }
 },
 "nbformat": 4,
 "nbformat_minor": 5
}
