{
 "cells": [
  {
   "cell_type": "markdown",
   "id": "b0dceffc",
   "metadata": {},
   "source": [
    "# Importing necessary libraries:"
   ]
  },
  {
   "cell_type": "markdown",
   "id": "0d4e9f69",
   "metadata": {},
   "source": [
    "******************************************************"
   ]
  },
  {
   "cell_type": "code",
   "execution_count": 1,
   "id": "4ee0141c",
   "metadata": {},
   "outputs": [],
   "source": [
    "import numpy as np"
   ]
  },
  {
   "cell_type": "code",
   "execution_count": 2,
   "id": "d82dc8ff-85df-44ca-ad72-cc18aa3ebaae",
   "metadata": {},
   "outputs": [],
   "source": [
    "from numba import jit"
   ]
  },
  {
   "cell_type": "code",
   "execution_count": 3,
   "id": "b4d573d9-f90d-4c6e-9968-a9cd1cfcf5e8",
   "metadata": {},
   "outputs": [],
   "source": [
    "from LS_Solver import *"
   ]
  },
  {
   "cell_type": "markdown",
   "id": "6c7c5ae7",
   "metadata": {},
   "source": [
    "****************************************************"
   ]
  },
  {
   "cell_type": "markdown",
   "id": "c10b5281-1a6a-4c39-be10-d55b3ecf68ce",
   "metadata": {},
   "source": [
    "# Error"
   ]
  },
  {
   "cell_type": "markdown",
   "id": "8fdb9c81-f635-4490-ac30-aeee2d307ac7",
   "metadata": {},
   "source": [
    "************************************************"
   ]
  },
  {
   "cell_type": "code",
   "execution_count": 4,
   "id": "b0f11c15-b488-4300-8f0e-279dd619b246",
   "metadata": {},
   "outputs": [],
   "source": [
    "@jit(nopython=True)\n",
    "def Error_Estimate_CDAS(Element_cen_phi_Actual,phi_0):\n",
    "    \"\"\"\n",
    "    Calculates the exact error using the solution at the centroid of the element\n",
    "    \"\"\"\n",
    "    # Centroid Difference with Analytical Solution (CDAS)\n",
    "    error = Element_cen_phi_Actual - phi_0\n",
    "    return error"
   ]
  },
  {
   "cell_type": "code",
   "execution_count": 5,
   "id": "5744342a-5fc3-4630-af61-fe838757ab86",
   "metadata": {},
   "outputs": [],
   "source": [
    "@jit(nopython=True)\n",
    "def Error_Estimate_CDEVAAS(Element_Vertex_Avg_sol,phi_0):\n",
    "    \"\"\"\n",
    "    Calculates the exact error using the average of the solution at the vertices of the element\n",
    "    \"\"\"\n",
    "    # Centroid Difference with Element Vertex Averaged Analytical Solution (CDEVAAS)\n",
    "    error = Element_Vertex_Avg_sol[:,1] - phi_0\n",
    "    return error"
   ]
  },
  {
   "cell_type": "code",
   "execution_count": 6,
   "id": "3cc21dd6-2456-40df-a8dd-4e4f2f6dd618",
   "metadata": {},
   "outputs": [],
   "source": [
    "@jit(nopython=True)\n",
    "def Error_Estimate_EMGA(phi_0,phi_0_u,Element_Element_Connectivity_new,Element_cen,Element_Area):\n",
    "    \"\"\"\n",
    "    Calculates the error estimate using:\n",
    "    (phi_0 - phi_0_u)*(|Gradient(phi_0)|)*(Element_Area)\n",
    "    \"\"\"\n",
    "    error = np.abs(phi_0 - phi_0_u)\n",
    "    Element_grad_phi_LS = Grad_Phi_LS(Element_Element_Connectivity_new,Element_cen,phi_0)\n",
    "    mod_grad = (np.sum(Element_grad_phi_LS[:,1:]**2,axis=1))**0.5\n",
    "    error = error*mod_grad*Element_Area[:,1]\n",
    "    return error,mod_grad"
   ]
  }
 ],
 "metadata": {
  "kernelspec": {
   "display_name": "Python 3 (ipykernel)",
   "language": "python",
   "name": "python3"
  },
  "language_info": {
   "codemirror_mode": {
    "name": "ipython",
    "version": 3
   },
   "file_extension": ".py",
   "mimetype": "text/x-python",
   "name": "python",
   "nbconvert_exporter": "python",
   "pygments_lexer": "ipython3",
   "version": "3.11.7"
  }
 },
 "nbformat": 4,
 "nbformat_minor": 5
}
