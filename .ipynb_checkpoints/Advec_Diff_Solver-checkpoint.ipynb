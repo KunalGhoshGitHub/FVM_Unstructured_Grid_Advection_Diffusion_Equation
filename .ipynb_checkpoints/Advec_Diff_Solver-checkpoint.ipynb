{
 "cells": [
  {
   "cell_type": "markdown",
   "id": "b0dceffc",
   "metadata": {},
   "source": [
    "# Importing necessary libraries:"
   ]
  },
  {
   "cell_type": "markdown",
   "id": "0d4e9f69",
   "metadata": {},
   "source": [
    "******************************************************"
   ]
  },
  {
   "cell_type": "code",
   "execution_count": 1,
   "id": "4ee0141c",
   "metadata": {},
   "outputs": [],
   "source": [
    "import numpy as np"
   ]
  },
  {
   "cell_type": "code",
   "execution_count": 2,
   "id": "846bc60b",
   "metadata": {},
   "outputs": [],
   "source": [
    "import matplotlib.pyplot as plt"
   ]
  },
  {
   "cell_type": "code",
   "execution_count": 3,
   "id": "5619448b-f1bc-4052-b8c9-070eb01a0366",
   "metadata": {},
   "outputs": [],
   "source": [
    "import matplotlib"
   ]
  },
  {
   "cell_type": "code",
   "execution_count": 4,
   "id": "f88fdd88-1b8a-4f55-818d-63fb31387dd2",
   "metadata": {},
   "outputs": [],
   "source": [
    "from matplotlib.colors import Normalize"
   ]
  },
  {
   "cell_type": "code",
   "execution_count": 5,
   "id": "bc4e2929-01ae-4c4c-bb2d-e5348e0c3d85",
   "metadata": {},
   "outputs": [],
   "source": [
    "import pyamg"
   ]
  },
  {
   "cell_type": "code",
   "execution_count": 6,
   "id": "46e86a8a-5565-46bc-b1ff-e9dafce5161f",
   "metadata": {},
   "outputs": [],
   "source": [
    "import scipy"
   ]
  },
  {
   "cell_type": "code",
   "execution_count": 7,
   "id": "ee3bee8f-b44a-4901-888a-752d19c65a7b",
   "metadata": {},
   "outputs": [],
   "source": [
    "from LS_Solver import *"
   ]
  },
  {
   "cell_type": "code",
   "execution_count": 8,
   "id": "c6d49afb-7492-448a-8df2-d966d167967c",
   "metadata": {},
   "outputs": [],
   "source": [
    "from Mesh_Preprocess import *"
   ]
  },
  {
   "cell_type": "code",
   "execution_count": 9,
   "id": "2303ef01-4c90-4c5b-8006-5e44b604b61c",
   "metadata": {},
   "outputs": [],
   "source": [
    "from Source_Term import *"
   ]
  },
  {
   "cell_type": "markdown",
   "id": "1f5a3072",
   "metadata": {},
   "source": [
    "****************"
   ]
  },
  {
   "cell_type": "markdown",
   "id": "ce3788f1",
   "metadata": {},
   "source": [
    "# Solver:"
   ]
  },
  {
   "cell_type": "markdown",
   "id": "ccefa4df",
   "metadata": {},
   "source": [
    "********************"
   ]
  },
  {
   "cell_type": "markdown",
   "id": "6a2a0a6e",
   "metadata": {},
   "source": [
    "## Advection-Diffusion Equation:"
   ]
  },
  {
   "cell_type": "markdown",
   "id": "aa9d6ef8",
   "metadata": {},
   "source": [
    "# $$\\frac{\\partial (\\rho \\phi)}{\\partial t} + \\nabla \\cdot (\\rho \\mathbf{V} \\phi)= \\nabla \\cdot (\\Gamma^{\\phi} \\nabla \\phi) + S$$"
   ]
  },
  {
   "cell_type": "markdown",
   "id": "36411ebc",
   "metadata": {},
   "source": [
    "Where:\n",
    "\n",
    "$\\rho$ is the density of the quantity undergoing diffusion.\n",
    "\n",
    "$\\phi$ is the scalar field representing the quantity undergoing diffusion.\n",
    "\n",
    "$\\frac{\\partial (\\rho \\phi)}{\\partial t}$ is the rate of change of the product $\\rho\\phi$ with respect to time.\n",
    "\n",
    "$\\nabla \\cdot$ is the divergence operator.\n",
    "\n",
    "$\\Gamma^{\\phi}$ is the diffusion coefficient tensor.\n",
    "\n",
    "$\\nabla \\phi$ is the gradient of $\\phi$, representing the spatial variation of $\\phi$.\n",
    "\n",
    "$S$ is the source term scalar, representing the rate at which the quantity is being added or removed from the system."
   ]
  },
  {
   "cell_type": "markdown",
   "id": "0baf3125",
   "metadata": {},
   "source": [
    "## Integrating of both sides of the equation with respect to volume ($dV$) and time ($dt$)."
   ]
  },
  {
   "cell_type": "markdown",
   "id": "cf1a4a94",
   "metadata": {},
   "source": [
    "### \\begin{equation}\n",
    "\\int_{0}^{t} \\int_{V} \\frac{\\partial (\\rho \\phi)}{\\partial t} \\, dV \\, dt + \\int_{0}^{t} \\int_{V}\\nabla \\cdot (\\rho \\mathbf{V} \\phi)  \\, dV \\, dt = \\int_{0}^{t} \\int_{V} \\nabla \\cdot (\\Gamma^{\\phi} \\nabla \\phi) \\, dV \\, dt + \\int_{0}^{t} \\int_{V} S \\, dV \\, dt\n",
    "\\end{equation}"
   ]
  },
  {
   "cell_type": "markdown",
   "id": "40d4404f",
   "metadata": {},
   "source": [
    "## Applying Gauss Divergence theorem to the divergence term $(\\int_{V} \\nabla \\cdot (\\Gamma^{\\phi} \\nabla \\phi) \\, dV)$ on the LHS."
   ]
  },
  {
   "cell_type": "markdown",
   "id": "f04cb128",
   "metadata": {},
   "source": [
    "# \\begin{equation}\n",
    "\\int_{V}\\nabla \\cdot (\\rho \\mathbf{V} \\phi)  \\, dV = \\oint_{S} (\\rho \\mathbf{V} \\phi) \\cdot d\\mathbf{S}\n",
    "\\end{equation}"
   ]
  },
  {
   "cell_type": "markdown",
   "id": "dc7fa63b",
   "metadata": {},
   "source": [
    "## Applying Gauss Divergence theorem to the divergence term $(\\int_{V} \\nabla \\cdot (\\Gamma^{\\phi} \\nabla \\phi) \\, dV)$ on the RHS."
   ]
  },
  {
   "cell_type": "markdown",
   "id": "0829c87d",
   "metadata": {},
   "source": [
    "# \\begin{equation}\n",
    "\\int_{V} \\nabla \\cdot (\\Gamma^{\\phi} \\nabla \\phi) \\, dV = \\oint_{S} (\\Gamma^{\\phi} \\nabla \\phi) \\cdot d\\mathbf{S}\n",
    "\\end{equation}\n"
   ]
  },
  {
   "cell_type": "markdown",
   "id": "a224956d",
   "metadata": {},
   "source": [
    "### \\begin{equation}\n",
    "\\int_{0}^{t} \\int_{V} \\frac{\\partial (\\rho \\phi)}{\\partial t} \\, dV \\, dt + \\int_{0}^{t} \\oint_{S} (\\rho \\mathbf{V} \\phi) \\cdot d\\mathbf{S} \\, dt = \\int_{0}^{t} \\oint_{S} (\\Gamma^{\\phi} \\nabla \\phi) \\cdot d\\mathbf{S} \\, dt + \\int_{0}^{t} \\int_{V} S \\, dV \\, dt\n",
    "\\end{equation}"
   ]
  },
  {
   "cell_type": "markdown",
   "id": "489ceaca",
   "metadata": {},
   "source": [
    "## $\\mathbf{dS} \\text{ is the differential surface area vector.} \\\\\n",
    "\\mathbf{n} \\text{ is the outward unit normal vector to the surface } S. \\\\\n",
    "dS \\text{ is the differential scalar surface area.}\n",
    "$"
   ]
  },
  {
   "cell_type": "markdown",
   "id": "efdd943f",
   "metadata": {},
   "source": [
    "### \\begin{equation}\n",
    "\\int_{0}^{t} \\int_{V} \\frac{\\partial (\\rho \\phi)}{\\partial t} \\, dV \\, dt + \\int_{0}^{t} \\oint_{S} (\\rho \\mathbf{V} \\phi) \\cdot (\\mathbf{n} \\, dS) \\, dt = \\int_{0}^{t} \\oint_{S} (\\Gamma^{\\phi} \\nabla \\phi) \\cdot (\\mathbf{n} \\, dS) \\, dt + \\int_{0}^{t} \\int_{V} S \\, dV \\, dt\n",
    "\\end{equation}\n"
   ]
  },
  {
   "cell_type": "markdown",
   "id": "962619fb",
   "metadata": {},
   "source": [
    "### \\begin{equation}\n",
    "\\int_{V} \\frac{(\\rho \\phi) - (\\rho \\phi)_0}{\\Delta t} \\, dV \\, \\Delta t + \\oint_{S} (\\rho \\mathbf{V} \\phi) \\cdot (\\mathbf{n} \\, dS) \\, \\Delta t = \\oint_{S} (\\Gamma^{\\phi} \\nabla \\phi) \\cdot (\\mathbf{n} \\, dS) \\, \\Delta t + \\int_{V} S \\, dV \\, \\Delta t\n",
    "\\end{equation}\n"
   ]
  },
  {
   "cell_type": "markdown",
   "id": "0137ae1b",
   "metadata": {},
   "source": [
    "# \\begin{equation}\n",
    "\\int_{V} \\frac{(\\rho \\phi) - (\\rho \\phi)_0}{\\Delta t} \\, dV \\, + \\oint_{S} (\\rho \\mathbf{V} \\phi) \\cdot (\\mathbf{n} \\, dS) \\, = \\oint_{S} (\\Gamma^{\\phi} \\nabla \\phi) \\cdot (\\mathbf{n} \\, dS) \\, + \\int_{V} S \\, dV\n",
    "\\end{equation}"
   ]
  },
  {
   "cell_type": "markdown",
   "id": "6dc2b334",
   "metadata": {},
   "source": [
    "## Now consider only 1 cell of the mesh"
   ]
  },
  {
   "cell_type": "markdown",
   "id": "6ea7d341",
   "metadata": {},
   "source": [
    "## \\begin{equation}\n",
    "\\frac{(\\rho \\phi) - (\\rho \\phi)_0}{\\Delta t} \\, \\Delta V \\, + \\left(\\sum_{S} (\\rho \\mathbf{V} \\phi) \\cdot (\\mathbf{n} \\, \\Delta S) \\right) \\, = \\left(\\sum_{S} (\\Gamma^{\\phi} \\nabla \\phi) \\cdot (\\mathbf{n} \\, \\Delta S) \\right) \\, + S \\, \\Delta V\n",
    "\\end{equation}"
   ]
  },
  {
   "cell_type": "markdown",
   "id": "32bd1882",
   "metadata": {},
   "source": [
    "## \\begin{equation}\n",
    "\\frac{(\\rho \\phi) - (\\rho \\phi)_0}{\\Delta t} \\, \\Delta V \\, + \\sum_{ip} \\left( (\\rho \\mathbf{V} \\phi) \\cdot (\\mathbf{n} \\, \\Delta S) \\right)_{ip} \\, = \\sum_{ip} \\left((\\Gamma^{\\phi} \\nabla \\phi) \\cdot (\\mathbf{n} \\, \\Delta S) \\right)_{ip} \\, + S \\, \\Delta V\n",
    "\\end{equation}"
   ]
  },
  {
   "cell_type": "markdown",
   "id": "819347bb",
   "metadata": {},
   "source": [
    "## Here, ip is the integration point over the surface of the control volume or cell. In this 2D case it is the mid point of the edges."
   ]
  },
  {
   "cell_type": "markdown",
   "id": "f7d130cf",
   "metadata": {},
   "source": [
    "## As, $\\rho \\Delta V = M$"
   ]
  },
  {
   "cell_type": "markdown",
   "id": "6f5b3b7c",
   "metadata": {},
   "source": [
    "## \\begin{equation}\n",
    "\\frac{(M \\phi) - (M \\phi)_0}{\\Delta t} \\,  + \\sum_{ip} \\left( (\\rho \\mathbf{V} \\phi) \\cdot (\\mathbf{n} \\, \\Delta S) \\right)_{ip} \\, = \\sum_{ip} \\left((\\Gamma^{\\phi} \\nabla \\phi) \\cdot (\\mathbf{n} \\, \\Delta S) \\right)_{ip} \\, + S \\, \\Delta V\n",
    "\\end{equation}"
   ]
  },
  {
   "cell_type": "markdown",
   "id": "7d87acda",
   "metadata": {},
   "source": [
    "### See the below diagram\n",
    "### Our control volume of interest is the $\\color{blue}{\\text{blue P}}$ one and $\\color{green}{\\text{green N_k}}$ is one of the neighbours"
   ]
  },
  {
   "cell_type": "markdown",
   "id": "2a94d588",
   "metadata": {},
   "source": [
    "# If the below diagram is not rendering properly then restart kernel and clear output and run the below block at first"
   ]
  },
  {
   "cell_type": "markdown",
   "id": "7e03aee5",
   "metadata": {},
   "source": [
    "%reload_ext itikz"
   ]
  },
  {
   "cell_type": "markdown",
   "id": "f893e820",
   "metadata": {},
   "source": [
    "%%itikz --file-prefix implicit-demo- --implicit-pic --scale=1\n",
    "\\usetikzlibrary{calc}\n",
    "\n",
    "% Calculate centroid for the first polygon\n",
    "\\coordinate (A) at (0,0);\n",
    "\\coordinate (B) at (1,4);\n",
    "\\coordinate (C) at (-1,6);\n",
    "\\coordinate (D) at (-4,5);\n",
    "\\coordinate (E) at (-3,1);\n",
    "\\coordinate (centroid1) at (barycentric cs:A=1,B=1,C=1,D=1,E=1);\n",
    "\n",
    "% Calculate centroid for the second polygon\n",
    "\\coordinate (F) at (3,-2);\n",
    "\\coordinate (G) at (6,-1);\n",
    "\\coordinate (H) at (7,3);\n",
    "\\coordinate (I) at (4,6);\n",
    "\\coordinate (centroid2) at (barycentric cs:A=1,F=1,G=1,H=1,I=1,B=1);\n",
    "\n",
    "\\draw[fill=green!30] (A) -- (F) -- (G) -- (H) -- (I) -- (B) -- cycle;\n",
    "\\draw[fill=blue!20] (A) -- (B) -- (C) -- (D) -- (E) -- cycle;\n",
    "\n",
    "% Draw centroids\n",
    "\\filldraw[black] (centroid1) circle (2pt) node[left] {$P$};\n",
    "\\filldraw[black] (centroid2) circle (2pt) node[right] {$N_k$};\n",
    "\n",
    "% Draw midpoint of the common edge\n",
    "\\coordinate (midpoint) at (barycentric cs:A=1,B=1);\n",
    "\n",
    "% Draw centroids\n",
    "\\filldraw[black] (midpoint) circle (2pt) node[below] {$k$};\n",
    "\n",
    "% Draw line between centroids\n",
    "\\draw[black, thick] (centroid1) -- (centroid2);\n",
    "\n",
    "% Draw line between centroid1 and midpoint\n",
    "\\draw[black, thick,-latex,line width=2.5pt] (centroid1) -- (midpoint);\n",
    "\n",
    "% Draw line between centroid2 and midpoint\n",
    "\\draw[black, thick,-latex,line width=2.5pt] (midpoint) -- (centroid2);\n",
    "\n",
    "% Calculate vector AB\n",
    "\\coordinate (vecAB) at ($(B)-(A)$);\n",
    "\n",
    "% Calculate perpendicular line passing through the midpoint\n",
    "\\coordinate (perpendicular) at ($(midpoint)!1!90:(vecAB)$);\n",
    "\n",
    "% Draw perpendicular line\n",
    "% \\draw[black, thick] (midpoint) -- (perpendicular);\n",
    "\n",
    "\n",
    "% Calculate perpendicular line passing through the midpoint\n",
    "\\coordinate (perpendicular1) at ($(midpoint)!1!-90:(vecAB)$);\n",
    "\n",
    "% Draw perpendicular line\n",
    "% \\draw[black, thick] (midpoint) -- (perpendicular1);\n",
    "\n",
    "% Extend the perpendicular lines\n",
    "\\coordinate (extPerpendicular) at ($(perpendicular)!-1.5cm!(midpoint)$);\n",
    "\\coordinate (extPerpendicular1) at ($(perpendicular1)!-2.1cm!(midpoint)$);\n",
    "\n",
    "% Draw perpendicular lines\n",
    "\\draw[black, thick] (midpoint) -- (extPerpendicular);\n",
    "\\draw[black, thick] (midpoint) -- (extPerpendicular1);\n",
    "\n",
    "\\coordinate (pointOnPerpendicular1) at ($(midpoint)!1cm!(perpendicular1)$);\n",
    "\\fill [black] ($(midpoint)!(centroid1)!(pointOnPerpendicular1)$) circle [radius=2pt];\n",
    "\n",
    "\\coordinate (pointOnPerpendicular) at ($(midpoint)!1cm!(perpendicular)$);\n",
    "\\fill [black] ($(midpoint)!(centroid2)!(pointOnPerpendicular)$) circle [radius=2pt];\n",
    "\n",
    "\\coordinate (p_prime) at ($(midpoint)!(centroid1)!(pointOnPerpendicular1)$);\n",
    "\\coordinate (Nk_prime) at ($(midpoint)!(centroid2)!(pointOnPerpendicular)$);\n",
    "\n",
    "\\draw[black, dashed] (centroid1) -- (p_prime);\n",
    "\n",
    "\\draw[black, dashed] (centroid2) -- (Nk_prime);\n",
    "\n",
    "% Calculate perpendicular line passing through the midpoint\n",
    "\\coordinate (Nk_prime) at ($(midpoint)!1!180:(p_prime)$);\n",
    "\n",
    "\\filldraw[black] (Nk_prime) circle (2pt) node[below] [below] {${N_k}^{\\prime}$};\n",
    "\n",
    "\\draw[black, dashed] (Nk_prime) -- (centroid2);\n",
    "\n",
    "\\draw[black, thick,-latex,line width=2.5pt] (midpoint) -- (Nk_prime);\n",
    "\n",
    "\\draw[black, thick,-latex,line width=2.5pt] (p_prime) -- (midpoint);\n",
    "\n",
    "\\node at (p_prime) [below] {$P^{\\prime}$};\n",
    "\\node at (midpoint) [above] {$\\vec{n}$};"
   ]
  },
  {
   "cell_type": "markdown",
   "id": "fbd19420",
   "metadata": {},
   "source": [
    "## This diagram is motivated by \n",
    "## [Ferziger JH, Perić M, Street RL. Computational methods for fluid dynamics. springer; 2019 Aug 16.]\n",
    "## [Chapter: 9,Fig. 9.19: On the approximation of diffusion fluxes for arbitrary polyhedral CVs]\n",
    "## [Page: 312]    "
   ]
  },
  {
   "cell_type": "markdown",
   "id": "cc825602",
   "metadata": {},
   "source": [
    "## \\begin{equation}\n",
    "\\frac{(M \\phi) - (M \\phi)_0}{\\Delta t} \\,  + \\sum_{ip} \\left( (\\rho \\mathbf{V} \\phi) \\cdot (\\mathbf{n} \\, \\Delta S) \\right)_{ip} \\, = \\sum_{ip} \\left((\\Gamma^{\\phi} \\nabla \\phi) \\cdot (\\mathbf{n} \\, \\Delta S) \\right)_{ip} \\, + S \\, \\Delta V\n",
    "\\end{equation}"
   ]
  },
  {
   "cell_type": "markdown",
   "id": "99cee762",
   "metadata": {},
   "source": [
    "## Consider the second term in the LHS"
   ]
  },
  {
   "cell_type": "markdown",
   "id": "48784475",
   "metadata": {},
   "source": [
    "## We assume that $\\mathbf{V}$ is known everywhere in the computational domain. But $\\phi$ at the ip is not known. So, we did the following (Central Differencing Scheme):\n",
    "## NOTE: ip is k in the below figure"
   ]
  },
  {
   "cell_type": "markdown",
   "id": "a609bda7",
   "metadata": {},
   "source": [
    "## \\begin{equation}\n",
    "\\frac{(M \\phi) - (M \\phi)_0}{\\Delta t} \\,  + \\sum_{ip} \\left( (\\rho \\mathbf{V}) \\cdot (\\mathbf{n} \\, \\Delta S) \\right)_{ip} \\phi_{ip}\\, = \\sum_{ip} \\left((\\Gamma^{\\phi} \\nabla \\phi) \\cdot (\\mathbf{n} \\, \\Delta S) \\right)_{ip} \\, + S \\, \\Delta V\n",
    "\\end{equation}"
   ]
  },
  {
   "cell_type": "markdown",
   "id": "6041c60b",
   "metadata": {},
   "source": [
    "## $$a = \\min((\\mathbf{r}_k - \\mathbf{r}_P) \\cdot \\mathbf{n}, (\\mathbf{r}_{Nk} - \\mathbf{r}_k) \\cdot \\mathbf{n})$$"
   ]
  },
  {
   "cell_type": "markdown",
   "id": "ecb81fbc",
   "metadata": {},
   "source": [
    "## $$\\mathbf{r}_{P^{\\prime}} = \\mathbf{r}_k - a\\mathbf{n}, \\quad \\mathbf{r}_{Nk^{\\prime}} = \\mathbf{r}_k + a\\mathbf{n}$$"
   ]
  },
  {
   "cell_type": "markdown",
   "id": "ad84e045",
   "metadata": {},
   "source": [
    "## $$\\phi_{P^{\\prime}} = \\phi_P + (\\nabla \\phi)_P \\cdot (\\mathbf{r}_P' - \\mathbf{r}_P), \\quad \\phi_{{Nk}^{\\prime}} = \\phi_{Nk} + (\\nabla \\phi)_{Nk} \\cdot (\\mathbf{r}_{Nk}' - \\mathbf{r}_{Nk})$$"
   ]
  },
  {
   "cell_type": "markdown",
   "id": "0d8fdd8f",
   "metadata": {},
   "source": [
    "## $$\\phi_k = \\frac{\\phi_P' + \\phi_{Nk}'}{2}$$"
   ]
  },
  {
   "cell_type": "markdown",
   "id": "59538c30",
   "metadata": {},
   "source": [
    "## So, \n",
    "## $$\\phi_{ip} = \\frac{\\phi_P' + \\phi_{Nk}'}{2}$$"
   ]
  },
  {
   "cell_type": "markdown",
   "id": "4ada8b39",
   "metadata": {},
   "source": [
    "## $$\\phi_{ip} = \\frac{1}{2}(\\phi_P + (\\nabla \\phi)_P \\cdot (\\mathbf{r}_P' - \\mathbf{r}_P) + \\phi_{Nk} + (\\nabla \\phi)_{Nk} \\cdot (\\mathbf{r}_{Nk}' - \\mathbf{r}_{Nk})) $$"
   ]
  },
  {
   "cell_type": "markdown",
   "id": "319a7d7a",
   "metadata": {},
   "source": [
    "## $$\\phi_{ip} = \\frac{1}{2}(\\phi_P + \\phi_{Nk} + (\\nabla \\phi)_P \\cdot (\\mathbf{r}_P' - \\mathbf{r}_P) + (\\nabla \\phi)_{Nk} \\cdot (\\mathbf{r}_{Nk}' - \\mathbf{r}_{Nk})) $$"
   ]
  },
  {
   "cell_type": "markdown",
   "id": "13063011",
   "metadata": {},
   "source": [
    "## $$\\phi_{ip} = \\frac{1}{2}(\\phi_P + \\phi_{Nk}) + \\frac{1}{2}((\\nabla \\phi)_P \\cdot (\\mathbf{r}_P' - \\mathbf{r}_P) + (\\nabla \\phi)_{Nk} \\cdot (\\mathbf{r}_{Nk}' - \\mathbf{r}_{Nk})) $$"
   ]
  },
  {
   "cell_type": "markdown",
   "id": "e3269584",
   "metadata": {},
   "source": [
    "## We will treat the first term in the RHS implicitly and second term explicitly using the vaules of $\\phi$ from the previous iteration."
   ]
  },
  {
   "cell_type": "markdown",
   "id": "b10e0dda",
   "metadata": {},
   "source": [
    "## $$\\phi_{ip} = \\frac{1}{2}(\\phi_P + \\phi_{Nk}) + \\frac{1}{2}\\bigg((\\nabla \\phi)_P \\cdot (\\mathbf{r}_P' - \\mathbf{r}_P) + (\\nabla \\phi)_{Nk} \\cdot (\\mathbf{r}_{Nk}' - \\mathbf{r}_{Nk})\\bigg)_{0} $$"
   ]
  },
  {
   "cell_type": "markdown",
   "id": "e097b95a",
   "metadata": {},
   "source": [
    "## Again,"
   ]
  },
  {
   "cell_type": "markdown",
   "id": "6a92bc01",
   "metadata": {},
   "source": [
    "## \\begin{equation}\n",
    "\\frac{(M \\phi) - (M \\phi)_0}{\\Delta t} \\,  + \\sum_{ip} \\left( (\\rho \\mathbf{V}) \\cdot (\\mathbf{n} \\, \\Delta S) \\right)_{ip} \\phi_{ip}\\, = \\sum_{ip} \\left((\\Gamma^{\\phi} \\nabla \\phi) \\cdot (\\mathbf{n} \\, \\Delta S) \\right)_{ip} \\, + S \\, \\Delta V\n",
    "\\end{equation}"
   ]
  },
  {
   "cell_type": "markdown",
   "id": "2b5cc255",
   "metadata": {},
   "source": [
    "## Consider the first term in the RHS"
   ]
  },
  {
   "cell_type": "markdown",
   "id": "f755b722",
   "metadata": {},
   "source": [
    "## $$(\\nabla \\phi) \\cdot (\\mathbf{n}) = \\frac{\\partial \\phi}{\\partial \\mathbf{n}}$$"
   ]
  },
  {
   "cell_type": "markdown",
   "id": "23d37921",
   "metadata": {},
   "source": [
    "## This is the derivative of $\\phi$ along the $\\mathbf{n}$ direction"
   ]
  },
  {
   "cell_type": "markdown",
   "id": "f59cd2ae",
   "metadata": {},
   "source": [
    "## So,"
   ]
  },
  {
   "cell_type": "markdown",
   "id": "233bf8aa",
   "metadata": {},
   "source": [
    "# \\begin{equation}\n",
    "\\frac{(M \\phi) - (M \\phi)_0}{\\Delta t} \\, + \\sum_{ip} \\left( (\\rho \\mathbf{V}) \\cdot (\\mathbf{n} \\, \\Delta S) \\right)_{ip} \\phi_{ip}\\, = \\sum_{ip} \\left( \\Gamma^{\\phi} \\,\\frac{\\partial \\phi}{\\partial \\mathbf{n}}\\, \\Delta S \\right)_{ip}\\, + S \\, \\Delta V\n",
    "\\end{equation}"
   ]
  },
  {
   "cell_type": "markdown",
   "id": "5218770f",
   "metadata": {},
   "source": [
    "# $$\\left(\\frac{\\partial \\phi}{\\partial n}\\right)_{k} \\approx \\frac{\\phi_{N_k} - \\phi_{P}}{|\\mathbf{r}_{N_k'} - \\mathbf{r}_{P'}|} +  \\frac{(\\nabla \\phi)_{N_k} \\cdot (\\mathbf{r}_{N_k'} - \\mathbf{r}_{N_k}) - (\\nabla \\phi)_{P} \\cdot (\\mathbf{r}_{P'} - \\mathbf{r}_{P})}{|\\mathbf{r}_{N_k'} - \\mathbf{r}_{P'}|} $$"
   ]
  },
  {
   "cell_type": "markdown",
   "id": "343891bb",
   "metadata": {},
   "source": [
    "### Here the first term in the RHS is treated implicitly and the second term (also known as deferred correction term) is treated explicitly using the values of the previous iteration."
   ]
  },
  {
   "cell_type": "markdown",
   "id": "5bb93148",
   "metadata": {},
   "source": [
    "### So,\n",
    "\n",
    "# $$\\left(\\frac{\\partial \\phi}{\\partial n}\\right)_{k} \\approx \\frac{\\phi_{N_k} - \\phi_{P}}{|\\mathbf{r}_{N_k'} - \\mathbf{r}_{P'}|} +  \\left(\\frac{(\\nabla \\phi)_{N_k} \\cdot (\\mathbf{r}_{N_k'} - \\mathbf{r}_{N_k}) - (\\nabla \\phi)_{P} \\cdot (\\mathbf{r}_{P'} - \\mathbf{r}_{P})}{|\\mathbf{r}_{N_k'} - \\mathbf{r}_{P'}|} \\right)_{0}$$"
   ]
  },
  {
   "cell_type": "markdown",
   "id": "2f0ca338",
   "metadata": {},
   "source": [
    "## So,"
   ]
  },
  {
   "cell_type": "markdown",
   "id": "673034a2",
   "metadata": {},
   "source": [
    "### \\begin{equation}\n",
    "\\frac{(M \\phi_P) - (M \\phi_P)_0}{\\Delta t} \\, + \\sum_{ip} \\left( (\\rho \\mathbf{V}) \\cdot (\\mathbf{n} \\, \\Delta S) \\right)_{ip} \\bigg(\\frac{1}{2}(\\phi_P + \\phi_{Nk}) + \\frac{1}{2}\\bigg((\\nabla \\phi)_P \\cdot (\\mathbf{r}_P' - \\mathbf{r}_P) + (\\nabla \\phi)_{Nk} \\cdot (\\mathbf{r}_{Nk}' - \\mathbf{r}_{Nk})\\bigg)_{0}\\bigg)\\, \n",
    "\\newline\n",
    "= \\sum_{ip} \\left(\\Gamma^{\\phi} \\left(\\frac{\\phi_{N_k} - \\phi_{P}}{|\\mathbf{r}_{N_k'} - \\mathbf{r}_{P'}|} +  \\left(\\frac{(\\nabla \\phi)_{N_k} \\cdot (\\mathbf{r}_{N_k'} - \\mathbf{r}_{N_k}) - (\\nabla \\phi)_{P} \\cdot (\\mathbf{r}_{P'} - \\mathbf{r}_{P})}{|\\mathbf{r}_{N_k'} - \\mathbf{r}_{P'}|} \\right)_{0}\\right)\\Delta S \\,\\right)_{ip} + S \\, \\Delta V\n",
    "\\end{equation}"
   ]
  },
  {
   "cell_type": "markdown",
   "id": "19ed7cd6",
   "metadata": {},
   "source": [
    "## So,"
   ]
  },
  {
   "cell_type": "markdown",
   "id": "bff356a5",
   "metadata": {},
   "source": [
    "### \\begin{equation}\n",
    "\\frac{(M \\phi_P)}{\\Delta t} \\,-  \\sum_{ip} \\left(\\Gamma^{\\phi} \\left(\\frac{\\phi_{N_k} - \\phi_{P}}{|\\mathbf{r}_{N_k'} - \\mathbf{r}_{P'}|}\\right)\\Delta S \\,\\right)_{ip}  + \\sum_{ip} \\left( (\\rho \\mathbf{V}) \\cdot (\\mathbf{n} \\, \\Delta S) \\right)_{ip} \\bigg(\\frac{1}{2}(\\phi_P + \\phi_{Nk})\\bigg)\n",
    "\\newline\n",
    "= \\frac{(M \\phi_P)_0}{\\Delta t} + \\left(\\sum_{S} \\Gamma^{\\phi} \\left(\\left(\\frac{(\\nabla \\phi)_{N_k} \\cdot (\\mathbf{r}_{N_k'} - \\mathbf{r}_{N_k}) - (\\nabla \\phi)_{P} \\cdot (\\mathbf{r}_{P'} - \\mathbf{r}_{P})}{|\\mathbf{r}_{N_k'} - \\mathbf{r}_{P'}|} \\right)_{0}\\right)\\Delta S \\,\\right)\n",
    "\\newline\n",
    "- \\sum_{ip} \\left( (\\rho \\mathbf{V}) \\cdot (\\mathbf{n} \\, \\Delta S) \\right)_{ip} \\bigg(\\frac{1}{2}\\bigg((\\nabla \\phi)_P \\cdot (\\mathbf{r}_P' - \\mathbf{r}_P) + (\\nabla \\phi)_{Nk} \\cdot (\\mathbf{r}_{Nk}' - \\mathbf{r}_{Nk})\\bigg)_{0}\\bigg)\\,\n",
    "+ S \\, \\Delta V\n",
    "\\end{equation}"
   ]
  },
  {
   "cell_type": "markdown",
   "id": "7fad116c",
   "metadata": {},
   "source": [
    "## So, this will give us a system of equation $A\\phi = b$"
   ]
  },
  {
   "cell_type": "markdown",
   "id": "fe381854",
   "metadata": {},
   "source": [
    "## NOTE: The gradient terms are calculated using least square method"
   ]
  },
  {
   "cell_type": "markdown",
   "id": "42db2024",
   "metadata": {},
   "source": [
    "## This methodolgy is motivated by \n",
    "## [Maliska CR. Fundamentals of computational fluid dynamics: the finite volume method. Springer Nature; 2023 Jan 19.]\n",
    "## [Chapter: 13, Section: 13.2]\n",
    "## [Page: 336]    "
   ]
  },
  {
   "cell_type": "markdown",
   "id": "ac48138a",
   "metadata": {},
   "source": [
    "****************"
   ]
  },
  {
   "cell_type": "markdown",
   "id": "33289406",
   "metadata": {},
   "source": [
    "# Jacobi Solver:"
   ]
  },
  {
   "cell_type": "markdown",
   "id": "5c6eb748",
   "metadata": {},
   "source": [
    "*************************"
   ]
  },
  {
   "cell_type": "code",
   "execution_count": 10,
   "id": "1917c0e6",
   "metadata": {},
   "outputs": [],
   "source": [
    "def Jacobi_Solver_Tol(A,b,x_0,req_Tol):\n",
    "    \"\"\"\n",
    "    Input: \n",
    "    A: Coefficient Matrix\n",
    "    b: RHS\n",
    "    x_0: Initial guess for Ax = b\n",
    "    req_Tol: Required Tolerance\n",
    "    \n",
    "    Output:\n",
    "    x: Ax = b\n",
    "    \n",
    "    Description:\n",
    "    This function solves Ax = b using Jacobi's method\n",
    "    \"\"\"\n",
    "    \n",
    "    diag_A = A.diagonal()\n",
    "    temp = (A - (diag_A*np.eye(A.shape[0])))\n",
    "    x = x_0\n",
    "    diag_A_inv = diag_A**(-1)\n",
    "    diag_A_inv = np.diag(diag_A_inv)\n",
    "    Tol = req_Tol + 1\n",
    "    ctr = 0\n",
    "    \n",
    "    while req_Tol < Tol:\n",
    "        x = diag_A_inv@(b - temp@x)\n",
    "        Tol = np.linalg.norm(A@x - b)\n",
    "        # print(Tol)\n",
    "        ctr  = ctr +  1\n",
    "        \n",
    "    print(f\"Jacobi Iterations: {ctr}\")\n",
    "    \n",
    "    return x"
   ]
  },
  {
   "cell_type": "code",
   "execution_count": 11,
   "id": "feba53f1",
   "metadata": {},
   "outputs": [],
   "source": [
    "def SOR_Solver_Tol(A,b,x_0,w,req_Tol):\n",
    "    \"\"\"\n",
    "    Input: \n",
    "    A: Coefficient Matrix\n",
    "    b: RHS\n",
    "    x_0: Initial guess for Ax = b\n",
    "    w: Relaxation factor (w < 2)\n",
    "    req_Tol: Required Tolerance    \n",
    "    \n",
    "    Output:\n",
    "    x: Ax = b\n",
    "    \n",
    "    Description:\n",
    "    This function solves Ax = b using SOR method.\n",
    "    It is found while solving that Jacobi's Method was faster.\n",
    "    This is because of more efficient implementation.\n",
    "    \"\"\"\n",
    "    \n",
    "    x = x_0.copy()\n",
    "    \n",
    "    U = A - np.tril(A)\n",
    "    \n",
    "    L = A - np.triu(A)\n",
    "    \n",
    "    # D = A - U - L\n",
    "    D = A.diagonal()\n",
    "    Tol = req_Tol + 1\n",
    "    ctr  = 0\n",
    "    while req_Tol < Tol:\n",
    "        U_x =U@x\n",
    "        RHS = b - U_x\n",
    "        # diag_A = A.diagonal()\n",
    "\n",
    "        for i in range(A.shape[0]):\n",
    "            x[i] = ((1-w)*x[i]) + (w*(RHS[i] - np.dot(L[i,:i],x[:i]))/D[i])\n",
    "            \n",
    "        Tol = np.linalg.norm(A@x - b)\n",
    "        ctr = ctr + 1\n",
    "        \n",
    "    print(ctr)\n",
    "    return x"
   ]
  },
  {
   "cell_type": "markdown",
   "id": "cc63eab3",
   "metadata": {},
   "source": [
    "***************"
   ]
  },
  {
   "cell_type": "markdown",
   "id": "94047435",
   "metadata": {},
   "source": [
    "# Advection Diffusion solver:"
   ]
  },
  {
   "cell_type": "markdown",
   "id": "adc4d069",
   "metadata": {},
   "source": [
    "***************"
   ]
  },
  {
   "cell_type": "code",
   "execution_count": 12,
   "id": "219d6e91-9977-40ae-a06d-41748cf05306",
   "metadata": {},
   "outputs": [],
   "source": [
    "def Advec_Diff_Solver_Steady_State(scheme,rho,V,Gamma_phi,desired_Residual,Element_Element_Connectivity_new,Source_Term_diff,Source_Term_advec,Element_cen,Element_Edge_Connectivity_new,Edge_Len,Diffusion_mesh_data,Boundary_Edges):\n",
    "    \"\"\"\n",
    "    Input:\n",
    "    scheme: 0: CDS, 1: Upwind\n",
    "    rho: Density\n",
    "    V: Advective Coefficients: Format: np.array([u,v])\n",
    "    Gamma_phi: Diffusion Coefficient\n",
    "    desired_Residual: Desired residual\n",
    "    Element_Element_Connectivity_new:\n",
    "    Source_Term_diff: Source term due to diffusion\n",
    "    Source_Term_advec: Source term due to advection\n",
    "    Element_cen:\n",
    "    Element_Edge_Connectivity_new:\n",
    "    Edge_Len:\n",
    "    Diffusion_mesh_data:\n",
    "    Boundary_Edges:\n",
    "    \n",
    "    Output:\n",
    "    phi_0: Solution\n",
    "    \"\"\"\n",
    "    \n",
    "    if (scheme != 0) and (scheme != 1):\n",
    "        print(f\"Choose the right scheme: 0: CDS, 1: Upwind\")\n",
    "        return -1\n",
    "    \n",
    "    Num_Triangles = Element_Element_Connectivity_new.shape[0]\n",
    "    phi = np.zeros((Num_Triangles))\n",
    "    phi_0 = np.zeros((Num_Triangles))\n",
    "    \n",
    "    res = desired_Residual + 1\n",
    "    \n",
    "    while res > desired_Residual:\n",
    "\n",
    "        RHS = np.zeros(Num_Triangles)\n",
    "        A = np.zeros((Num_Triangles,Num_Triangles))\n",
    "        \n",
    "        # LS\n",
    "        # The gradient term needs to be  updated\n",
    "        Element_grad_phi_LS = Grad_Phi_LS(Element_Element_Connectivity_new,Element_cen,phi_0)\n",
    "        Element_grad_phi = Element_grad_phi_LS\n",
    "        RHS = - (Source_Term_diff) + (Source_Term_advec)\n",
    "        \n",
    "        for i in range(Element_Element_Connectivity_new.shape[0]):\n",
    "            Element = Element_Element_Connectivity_new[i,0]\n",
    "            x = Element_cen[Element,1]\n",
    "            y = Element_cen[Element,2]\n",
    "\n",
    "            Nb_Elements = Element_Element_Connectivity_new[i,1:]\n",
    "            Edges = Element_Edge_Connectivity_new[Element,1:]\n",
    "            \n",
    "            for j in range(Nb_Elements.shape[0]):\n",
    "                nb_element = Nb_Elements[j]\n",
    "                nb_edges = Element_Edge_Connectivity_new[nb_element,1:]\n",
    "                common_edge = np.intersect1d(Edges,nb_edges)\n",
    "                if common_edge.shape[0] == 1:\n",
    "                    # Internal Edges\n",
    "                    Edge = int(common_edge[0])\n",
    "                    edge_len = Edge_Len[Edge,1]\n",
    "                    ds = edge_len\n",
    "                    dl = P_prime_Nk_prime_len(Diffusion_mesh_data,Element,Edge)\n",
    "                    \n",
    "                    # Debug Script:\n",
    "                    # print(dl)\n",
    "                    \n",
    "                    A[Element,Element] = A[Element,Element] + (Gamma_phi*ds/dl)\n",
    "                    \n",
    "                    # Debug Script:\n",
    "                    # print(nb_element)\n",
    "                    \n",
    "                    A[Element,nb_element] = A[Element,nb_element] + (-Gamma_phi*ds/dl) \n",
    "\n",
    "                    # Deferred Correction for diffusion\n",
    "                    grad_phi_p = Element_grad_phi[Element,1:]\n",
    "                    p_p_prime = p_p_prime_data(Diffusion_mesh_data,Element,Edge)\n",
    "                    grad_phi_nb = Element_grad_phi[nb_element,1:]\n",
    "                    nk_nk_prime = nk_nk_prime_data(Diffusion_mesh_data,nb_element,Edge)\n",
    "                    temp = Gamma_phi*(np.dot(grad_phi_nb,nk_nk_prime) - np.dot(grad_phi_p,p_p_prime))*ds/dl\n",
    "                    diff_temp = temp\n",
    "                    \n",
    "                    # Advection term\n",
    "                    V_ip = V\n",
    "                    n_ip = neg_k_p_prime_data(Diffusion_mesh_data,Element,Edge)\n",
    "                    m_dot_ip = (rho*(np.dot(V_ip,n_ip))*ds)\n",
    "\n",
    "                    # CDS\n",
    "                    if scheme == 0:\n",
    "                        A[Element,Element] = A[Element,Element] + (0.5*m_dot_ip)\n",
    "                        A[Element,nb_element] = A[Element,nb_element] + (0.5*m_dot_ip) \n",
    "                        # Deferred Correction for advection\n",
    "                        advec_temp = 0.5*(np.dot(grad_phi_p,p_p_prime) + np.dot(grad_phi_nb,nk_nk_prime))\n",
    "                        advec_temp = advec_temp*m_dot_ip\n",
    "\n",
    "                    # Upwind Scheme\n",
    "                    if scheme == 1:\n",
    "                        # To be consistent with Majumdar sir's note\n",
    "                        F_ip = m_dot_ip\n",
    "                        # This is Upwinding here\n",
    "                        A[Element,Element] = A[Element,Element] + (0.5*(abs(F_ip)+F_ip))\n",
    "                        A[Element,nb_element] = A[Element,nb_element] - (0.5*(abs(F_ip)-F_ip))\n",
    "                        advec_temp = 0\n",
    "\n",
    "                    RHS[Element] = RHS[Element] + (diff_temp) - (advec_temp)\n",
    "\n",
    "                    # Debug Script:\n",
    "                    # print(temp)\n",
    "                    \n",
    "                else:\n",
    "                    # Boundary Edges\n",
    "                    # So apply boundary condition here\n",
    "                    \n",
    "                    # NOTE:\n",
    "                    # Do NOT do this, as the boundary condition imposed of the edge and not on the cells at the boundary\n",
    "                    # A[Element,Element] = 1\n",
    "                    # RHS[Element] = 0\n",
    "                    \n",
    "                    Edge = np.intersect1d(Boundary_Edges,common_edge)\n",
    "                    Edge = int(Edge[0])\n",
    "                    edge_len = Edge_Len[Edge,1]\n",
    "                    ds = edge_len\n",
    "                    dl = P_prime_Nk_prime_len(Diffusion_mesh_data,Element,Edge)\n",
    "                    # print(dl)\n",
    "                    # But this Nk_prime is NOT inside the computational domain\n",
    "                    # This is |k_p_prime|\n",
    "                    dl = dl/2\n",
    "                    \n",
    "                    # We know phi at k as it is the boundary edge\n",
    "                    # See the Fig: 9.19 in Peric and think for 1 s\n",
    "                    # So we have phi_k\n",
    "                    A[Element,Element] = A[Element,Element] + (Gamma_phi*ds/dl)\n",
    "\n",
    "                    # Deferred Correction\n",
    "                    phi_k_edge = 0\n",
    "                    phi_k_edge_term = (-Gamma_phi*ds/dl)*phi_k_edge \n",
    "                    grad_phi_p = Element_grad_phi[Element,1:]\n",
    "                    p_p_prime = p_p_prime_data(Diffusion_mesh_data,Element,Edge)\n",
    "                    temp = Gamma_phi*(- np.dot(grad_phi_p,p_p_prime))*ds/dl\n",
    "                    diff_temp = temp\n",
    "                    \n",
    "                    # Advection term\n",
    "                    # For boundaries we know phi_ip\n",
    "                    # phi = 0 at the boundary\n",
    "                    V_ip = V\n",
    "                    n_ip = neg_k_p_prime_data(Diffusion_mesh_data,Element,Edge)\n",
    "                    m_dot_ip = (rho*(np.dot(V_ip,n_ip))*ds)\n",
    "                    \n",
    "                    RHS[Element] = RHS[Element] + diff_temp + phi_k_edge_term\n",
    "\n",
    "        # Debug Script:\n",
    "        # This is a direct solver\n",
    "        # phi = np.linalg.inv(A)@RHS\n",
    "\n",
    "        # phi = Jacobi_Solver_Tol(A,RHS,phi,desired_Residual)\n",
    "\n",
    "        A_mat = A.copy()\n",
    "        A = scipy.sparse.csr_matrix(A)\n",
    "\n",
    "        # preconditioner = pyamg.smoothed_aggregation_solver(A)\n",
    "        # preconditioned_A = preconditioner.aspreconditioner()\n",
    "        # ml = pyamg.ruge_stuben_solver(preconditioned_A,max_coarse=Num_Triangles)\n",
    "        \n",
    "        ml = pyamg.ruge_stuben_solver(A,max_coarse=Num_Triangles)\n",
    "        # ml = pyamg.smoothed_aggregation_solver(A,max_coarse=Num_Triangles)\n",
    "        # phi = ml.solve(RHS, x0=phi_0,tol=1e-20)\n",
    "        phi = ml.solve(RHS,accel=\"gmres\", x0=phi_0,tol=desired_Residual)\n",
    "\n",
    "        # phi = Jacobi_Solver_Tol(A,RHS,phi,desired_Residual)\n",
    "\n",
    "        res = np.linalg.norm((phi - phi_0)/(phi_0),1)\n",
    "\n",
    "        # print(res)\n",
    "        # print(np.sum((phi - phi_0) < desired_Residual) == Num_Triangles)\n",
    "\n",
    "        # print(np.sum(np.abs((phi - phi_0)/phi_0) < desired_Residual))\n",
    "        \n",
    "        # res = np.linalg.norm((phi - phi_0),1)\n",
    "        \n",
    "        print(f\"Residual: {res}\")\n",
    "        phi_0 = phi.copy()\n",
    "        \n",
    "    return A_mat,RHS,phi_0"
   ]
  }
 ],
 "metadata": {
  "kernelspec": {
   "display_name": "Python 3 (ipykernel)",
   "language": "python",
   "name": "python3"
  },
  "language_info": {
   "codemirror_mode": {
    "name": "ipython",
    "version": 3
   },
   "file_extension": ".py",
   "mimetype": "text/x-python",
   "name": "python",
   "nbconvert_exporter": "python",
   "pygments_lexer": "ipython3",
   "version": "3.11.7"
  }
 },
 "nbformat": 4,
 "nbformat_minor": 5
}
