{
 "cells": [
  {
   "cell_type": "markdown",
   "id": "b007811a-c3d0-4528-a756-b8740e7cda76",
   "metadata": {},
   "source": [
    "# Importing necessary libraries:"
   ]
  },
  {
   "cell_type": "markdown",
   "id": "964bece9-ae28-4c33-b97e-604d14c9f8fc",
   "metadata": {},
   "source": [
    "**********************************************"
   ]
  },
  {
   "cell_type": "code",
   "execution_count": 1,
   "id": "2adb2e63-f4d1-4393-ae6f-243da4cfa650",
   "metadata": {},
   "outputs": [],
   "source": [
    "from Mesh_Preprocess import *"
   ]
  },
  {
   "cell_type": "code",
   "execution_count": 2,
   "id": "902de777-3d4b-4512-8b76-4fbe359d6522",
   "metadata": {},
   "outputs": [],
   "source": [
    "from Source_Term import *"
   ]
  },
  {
   "cell_type": "code",
   "execution_count": 3,
   "id": "8a79f0e1-3299-4ef4-add2-43d71480dbd4",
   "metadata": {},
   "outputs": [],
   "source": [
    "from LS_Solver import *"
   ]
  },
  {
   "cell_type": "code",
   "execution_count": 4,
   "id": "efd90539-3519-424f-b976-91f132e6496d",
   "metadata": {},
   "outputs": [],
   "source": [
    "from Post_Process import *"
   ]
  },
  {
   "cell_type": "code",
   "execution_count": 5,
   "id": "8ad6a507-6224-4f44-99b2-0434d17598a3",
   "metadata": {},
   "outputs": [],
   "source": [
    "from Advec_Diff_Solver import *"
   ]
  },
  {
   "cell_type": "code",
   "execution_count": 6,
   "id": "eb36f5a9-e35a-47dc-8077-1e50f8c3c029",
   "metadata": {},
   "outputs": [],
   "source": [
    "from Analytical_Solution_Contour_Plot import *"
   ]
  },
  {
   "cell_type": "code",
   "execution_count": 7,
   "id": "0b90e178-d2cf-4da6-aa67-2293fcebfa59",
   "metadata": {},
   "outputs": [],
   "source": [
    "from Analytical_Sol import *"
   ]
  },
  {
   "cell_type": "code",
   "execution_count": 8,
   "id": "6d2a87fa-e7cc-4319-bbed-c27d0f233264",
   "metadata": {},
   "outputs": [],
   "source": [
    "from Error_Estimate import *"
   ]
  },
  {
   "cell_type": "code",
   "execution_count": 9,
   "id": "6b96d827-52a9-4cf9-bc9c-853e0907f449",
   "metadata": {},
   "outputs": [],
   "source": [
    "from Metric_Calculate import *"
   ]
  },
  {
   "cell_type": "code",
   "execution_count": 10,
   "id": "e9091b87-542f-40b9-8188-135a356a8c83",
   "metadata": {},
   "outputs": [],
   "source": [
    "from Error_Evaluate import *"
   ]
  },
  {
   "cell_type": "markdown",
   "id": "5139ae6a-ab3b-495a-b218-aebe3ea947e8",
   "metadata": {},
   "source": [
    "## Reading the contents of mesh file"
   ]
  },
  {
   "cell_type": "code",
   "execution_count": 11,
   "id": "562edc74-6869-4524-85de-0e34db677e9a",
   "metadata": {},
   "outputs": [],
   "source": [
    "Mesh_File = \"mesh.msh\""
   ]
  },
  {
   "cell_type": "code",
   "execution_count": 12,
   "id": "7e15b61d-f15e-405e-9851-5c88422838c1",
   "metadata": {},
   "outputs": [
    {
     "name": "stdout",
     "output_type": "stream",
     "text": [
      "Mesh File Format: \n",
      "Mesh Ascii Format: 4.1\n",
      "Mesh File Type: 0\n",
      "Mesh Data Size_Native: 8\n"
     ]
    }
   ],
   "source": [
    "# Mesh file format\n",
    "Mesh_Ascii_Format, Mesh_File_Type, Mesh_Data_Size_Native = Mesh_Format(Mesh_File)\n",
    "print(f\"Mesh File Format: \")\n",
    "print(f\"Mesh Ascii Format: {Mesh_Ascii_Format}\")\n",
    "print(f\"Mesh File Type: {Mesh_File_Type}\")\n",
    "print(f\"Mesh Data Size_Native: {Mesh_Data_Size_Native}\")"
   ]
  },
  {
   "cell_type": "code",
   "execution_count": 13,
   "id": "35ee607f-08a2-43ab-a0f6-a156910fb2de",
   "metadata": {},
   "outputs": [],
   "source": [
    "# Mesh Elements\n",
    "Mesh_Elements_Data = Mesh_Elements(Mesh_File)"
   ]
  },
  {
   "cell_type": "code",
   "execution_count": 14,
   "id": "68e93658-e723-47f3-a998-816a9706987f",
   "metadata": {},
   "outputs": [],
   "source": [
    "# This will count the number of triangles in the mesh\n",
    "Num_Triangles = np.count_nonzero(Mesh_Elements_Data[:,-1] == 2)"
   ]
  },
  {
   "cell_type": "code",
   "execution_count": 15,
   "id": "9a2fbf0b-9e99-47d9-a2d4-c0fc657bddb2",
   "metadata": {},
   "outputs": [],
   "source": [
    "Element_Node_Connectivity = Element_Node_Connectivity_Calculate(Num_Triangles,Mesh_Elements_Data)"
   ]
  },
  {
   "cell_type": "code",
   "execution_count": 16,
   "id": "d757bbaf-73b9-4577-b854-9c9c4ab7c41e",
   "metadata": {},
   "outputs": [],
   "source": [
    "Edge_Node_Connectivity,Boundary_Edges = Edge_Node_Connectivity_Calculate(Element_Node_Connectivity,Mesh_Elements_Data)"
   ]
  },
  {
   "cell_type": "code",
   "execution_count": 17,
   "id": "64e36866-2626-4eb1-9ca3-00852a399f7e",
   "metadata": {},
   "outputs": [],
   "source": [
    "Element_Edge_Connectivity = Element_Edge_Connectivity_Calculate(Num_Triangles,Element_Node_Connectivity,Edge_Node_Connectivity)"
   ]
  },
  {
   "cell_type": "code",
   "execution_count": 18,
   "id": "fea2187b-3b51-4e24-876b-7f85467097fb",
   "metadata": {},
   "outputs": [],
   "source": [
    "Node_Coordinates,Point_Nodes,Curve_Nodes,Surface_Nodes = Mesh_Nodes(Mesh_File)"
   ]
  },
  {
   "cell_type": "code",
   "execution_count": 19,
   "id": "834445b3-62d6-4cc6-b7cd-9b173bcc8067",
   "metadata": {},
   "outputs": [],
   "source": [
    "Num_Nodes = Node_Coordinates.shape[0]"
   ]
  },
  {
   "cell_type": "code",
   "execution_count": 20,
   "id": "e658eaa9-3b5d-48b4-b29d-bd0e2a6de5de",
   "metadata": {},
   "outputs": [],
   "source": [
    "Element_Element_Connectivity = Element_Element_Connectivity_Calculate_fast(Num_Triangles,Num_Nodes,Element_Node_Connectivity)\n",
    "# Element_Element_Connectivity = Element_Element_Connectivity_Calculate(Num_Triangles,Element_Node_Connectivity)"
   ]
  },
  {
   "cell_type": "markdown",
   "id": "de326654-b56f-4202-b39f-c74c00686381",
   "metadata": {},
   "source": [
    "### We need to renumber the elements"
   ]
  },
  {
   "cell_type": "code",
   "execution_count": 21,
   "id": "81b0c7b7-b8c8-442d-a354-da7ae876a26e",
   "metadata": {},
   "outputs": [],
   "source": [
    "Element_Element_Connectivity_new,Element_Edge_Connectivity_new,Element_Node_Connectivity_new,Edge_Node_Connectivity_new = Renumbering(Element_Element_Connectivity,Element_Edge_Connectivity,Element_Node_Connectivity,Edge_Node_Connectivity)"
   ]
  },
  {
   "cell_type": "code",
   "execution_count": 22,
   "id": "e4a10483-cf24-4154-946b-17ea77ca17c3",
   "metadata": {},
   "outputs": [],
   "source": [
    "Face_Centroid = Face_Centroid_Calculate(Edge_Node_Connectivity_new,Node_Coordinates)"
   ]
  },
  {
   "cell_type": "code",
   "execution_count": 23,
   "id": "4897abde-cf07-41ca-a838-fb0cf2373b4c",
   "metadata": {},
   "outputs": [],
   "source": [
    "# Number of vertices in each element\n",
    "Num_vertices = 3"
   ]
  },
  {
   "cell_type": "code",
   "execution_count": 24,
   "id": "0b46a29b-7524-461c-bacd-b169de38128a",
   "metadata": {},
   "outputs": [],
   "source": [
    "# Dimension of the problem\n",
    "dim = 2"
   ]
  },
  {
   "cell_type": "code",
   "execution_count": 25,
   "id": "0c45b321-f96a-4f03-ab10-cf13fcebce6c",
   "metadata": {},
   "outputs": [],
   "source": [
    "Element_Node_Connectivity[0]\n",
    "Element_Node_Coordinates_l = np.zeros((3,2))\n",
    "Element_Node_Coordinates_l[0,:] = Node_Coordinates[int(Element_Node_Connectivity[0,1])][0:2]\n",
    "Element_Node_Coordinates_l[1,:] = Node_Coordinates[int(Element_Node_Connectivity[0,2])][0:2]\n",
    "Element_Node_Coordinates_l[2,:] = Node_Coordinates[int(Element_Node_Connectivity[0,3])][0:2]"
   ]
  },
  {
   "cell_type": "code",
   "execution_count": 26,
   "id": "4f085901-7631-417f-a95b-3801cc76736a",
   "metadata": {},
   "outputs": [],
   "source": [
    "Anticlock_vertices = Anti_Clock_Triangle_vertices(Element_Node_Coordinates_l)"
   ]
  },
  {
   "cell_type": "code",
   "execution_count": 27,
   "id": "b9869c0c-65ed-4bfa-a1cd-5abeef635dad",
   "metadata": {},
   "outputs": [],
   "source": [
    "# Check_Element_all_prop(Element_Node_Connectivity_new,Node_Coordinates,Edge_Node_Connectivity_new)"
   ]
  },
  {
   "cell_type": "code",
   "execution_count": 28,
   "id": "655bb33d-a997-465f-b009-1b352afb13fd",
   "metadata": {},
   "outputs": [],
   "source": [
    "Edge_Element_Connectivity = Edge_Element_Connectivity_Calculate(Edge_Node_Connectivity_new,Element_Element_Connectivity_new,Element_Edge_Connectivity_new,Boundary_Edges)"
   ]
  },
  {
   "cell_type": "code",
   "execution_count": 29,
   "id": "ee4e0c6d-ebab-4af9-8f69-76cadbf6ad8c",
   "metadata": {},
   "outputs": [],
   "source": [
    "Diffusion_mesh_data,Element_cen = Diffusion_mesh_data_Calculate(Num_Triangles,Element_Node_Connectivity_new,Element_Edge_Connectivity_new,Node_Coordinates,Edge_Node_Connectivity_new,Edge_Element_Connectivity)"
   ]
  },
  {
   "cell_type": "code",
   "execution_count": 30,
   "id": "88f47b6f-c56d-4082-88a1-1355c5345b46",
   "metadata": {},
   "outputs": [],
   "source": [
    "Element_Area = Element_Area_Calculate(Num_Triangles,Element_Node_Connectivity_new,Node_Coordinates)"
   ]
  },
  {
   "cell_type": "code",
   "execution_count": 31,
   "id": "47a68216-66f7-41f4-b933-32da7bad4bd8",
   "metadata": {},
   "outputs": [],
   "source": [
    "Num_Edges = Edge_Node_Connectivity_new.shape[0]"
   ]
  },
  {
   "cell_type": "code",
   "execution_count": 32,
   "id": "7e978ccb-f1b9-414c-8d52-eb49ca37cadc",
   "metadata": {},
   "outputs": [],
   "source": [
    "Edge_Len = Edge_Len_Calculate(Num_Edges,Edge_Node_Connectivity_new,Node_Coordinates)"
   ]
  },
  {
   "cell_type": "markdown",
   "id": "e19f796f-3c98-434d-b8fc-a90c991dd70f",
   "metadata": {},
   "source": [
    "****************************************************"
   ]
  },
  {
   "cell_type": "markdown",
   "id": "baa88a92-6224-452a-8fab-172bfaadb77c",
   "metadata": {},
   "source": [
    "# Physical Variables:"
   ]
  },
  {
   "cell_type": "markdown",
   "id": "e8229194-1cad-4093-b802-bc20d624a93a",
   "metadata": {},
   "source": [
    "*******************************************"
   ]
  },
  {
   "cell_type": "code",
   "execution_count": 33,
   "id": "67a9d491-2f07-4c72-98ff-81d65397ca8c",
   "metadata": {},
   "outputs": [],
   "source": [
    "rho = 1\n",
    "Gamma_phi = 1"
   ]
  },
  {
   "cell_type": "code",
   "execution_count": 34,
   "id": "ea64e4b9-0ab0-4fb6-8c95-dd8f9ad80c99",
   "metadata": {},
   "outputs": [],
   "source": [
    "u = 10\n",
    "v = 10\n",
    "V = np.array([u,v])"
   ]
  },
  {
   "cell_type": "markdown",
   "id": "e93c7610-5ea1-4223-b806-920270960862",
   "metadata": {},
   "source": [
    "*************************************************"
   ]
  },
  {
   "cell_type": "markdown",
   "id": "bc340fd1-37d5-4d2f-ac84-c88f64a6b280",
   "metadata": {},
   "source": [
    "# Calculating the source term:"
   ]
  },
  {
   "cell_type": "markdown",
   "id": "60ae58f7-0f3c-4bcd-a3b6-a8a869115da4",
   "metadata": {},
   "source": [
    "******************************************"
   ]
  },
  {
   "cell_type": "code",
   "execution_count": 35,
   "id": "44ac822a-d3dc-40a3-a69e-8d1f7470d7e6",
   "metadata": {},
   "outputs": [],
   "source": [
    "Element_Mass = Elements_Mass_Calculate(rho,Element_Area)"
   ]
  },
  {
   "cell_type": "code",
   "execution_count": 36,
   "id": "bdf39675-bd66-4ab3-9969-30ca78509aae",
   "metadata": {},
   "outputs": [],
   "source": [
    "Element_Source_diff = Source_Cal_diff_Elements(Num_Triangles,Element_cen,Gamma_phi,u,v)"
   ]
  },
  {
   "cell_type": "code",
   "execution_count": 37,
   "id": "293c7bfd-5f37-48b5-a4d0-ddda2e3bc514",
   "metadata": {},
   "outputs": [],
   "source": [
    "Source_Term_diff = Source_Term_Elements(rho,Element_Area,Element_Source_diff)"
   ]
  },
  {
   "cell_type": "code",
   "execution_count": 38,
   "id": "644a25dc-4513-4778-847b-21dbc5039e29",
   "metadata": {},
   "outputs": [],
   "source": [
    "Element_Source_advec = Source_Cal_advec_Elements(Num_Triangles,Element_cen,rho,Gamma_phi,u,v)"
   ]
  },
  {
   "cell_type": "code",
   "execution_count": 39,
   "id": "e54b8750-641b-445d-b369-ae648490b10a",
   "metadata": {},
   "outputs": [],
   "source": [
    "Source_Term_advec = Source_Term_Elements(rho,Element_Area,Element_Source_advec)"
   ]
  },
  {
   "cell_type": "markdown",
   "id": "abc9fe06-24ef-4658-bab5-86bad64af230",
   "metadata": {},
   "source": [
    "******************************************"
   ]
  },
  {
   "cell_type": "markdown",
   "id": "5330e8ad-3050-424c-a057-d529be325f01",
   "metadata": {},
   "source": [
    "# Advection Diffusion solver:"
   ]
  },
  {
   "cell_type": "markdown",
   "id": "1256cafa-6c3a-498b-ba3c-d53cec51b62c",
   "metadata": {},
   "source": [
    "*****************************************************"
   ]
  },
  {
   "cell_type": "code",
   "execution_count": 40,
   "id": "49dc36db-02e9-4542-b910-efeee006bfc4",
   "metadata": {},
   "outputs": [
    {
     "name": "stderr",
     "output_type": "stream",
     "text": [
      "/home/kunal/Downloads/Maliska/GitHub/FVM_Scripts_Generator/Advec_Diff_Solver.py:604: RuntimeWarning: divide by zero encountered in divide\n",
      "  res = np.linalg.norm((phi - phi_0)/(phi_0),1)\n"
     ]
    },
    {
     "name": "stdout",
     "output_type": "stream",
     "text": [
      "Residual: inf\n",
      "Residual: 6.7083378907890285\n",
      "Residual: 0.5235170828428485\n",
      "Residual: 0.06652600124325767\n",
      "Residual: 0.011158426819939218\n",
      "Residual: 0.0022278075755842106\n",
      "Residual: 0.0005509344726746333\n",
      "Residual: 0.00013859155252443783\n",
      "Residual: 3.7861184986407874e-05\n",
      "Residual: 1.0117276059962255e-05\n",
      "Residual: 2.7925937220258286e-06\n",
      "Residual: 7.49245114782022e-07\n",
      "Residual: 2.0514422477807125e-07\n",
      "Residual: 5.467526823475121e-08\n",
      "Residual: 1.4842590639250024e-08\n",
      "Residual: 0.0\n"
     ]
    }
   ],
   "source": [
    "A,RHS,phi_0 = Advec_Diff_Solver_Steady_State(0,rho,V,Gamma_phi,1e-10,Element_Element_Connectivity_new,Source_Term_diff,Source_Term_advec,Element_cen,Element_Edge_Connectivity_new,Edge_Len,Diffusion_mesh_data,Boundary_Edges)"
   ]
  },
  {
   "cell_type": "code",
   "execution_count": 41,
   "id": "b32c9d38-49bd-4727-bb77-3704205e656f",
   "metadata": {},
   "outputs": [
    {
     "name": "stdout",
     "output_type": "stream",
     "text": [
      "Residual: inf\n",
      "Residual: 3.569224543110741\n"
     ]
    },
    {
     "name": "stderr",
     "output_type": "stream",
     "text": [
      "/home/kunal/Downloads/Maliska/GitHub/FVM_Scripts_Generator/Advec_Diff_Solver.py:604: RuntimeWarning: divide by zero encountered in divide\n",
      "  res = np.linalg.norm((phi - phi_0)/(phi_0),1)\n"
     ]
    },
    {
     "name": "stdout",
     "output_type": "stream",
     "text": [
      "Residual: 0.30664369427815363\n",
      "Residual: 0.03385274280559197\n",
      "Residual: 0.005267649955259962\n",
      "Residual: 0.0008927007028433664\n",
      "Residual: 0.00014048971087776306\n",
      "Residual: 2.7643256887337302e-05\n",
      "Residual: 5.0264308804943175e-06\n",
      "Residual: 1.0040240867968905e-06\n",
      "Residual: 1.9580603799033618e-07\n",
      "Residual: 3.831985492561422e-08\n",
      "Residual: 0.0\n"
     ]
    }
   ],
   "source": [
    "A_u,RHS_u,phi_0_u = Advec_Diff_Solver_Steady_State(1,rho,V,Gamma_phi,1e-10,Element_Element_Connectivity_new,Source_Term_diff,Source_Term_advec,Element_cen,Element_Edge_Connectivity_new,Edge_Len,Diffusion_mesh_data,Boundary_Edges)"
   ]
  },
  {
   "cell_type": "markdown",
   "id": "bc5d1a0a-0d76-4513-b06e-cd0d35155ca2",
   "metadata": {},
   "source": [
    "*******************************************"
   ]
  },
  {
   "cell_type": "markdown",
   "id": "b1761ba7-b51a-4d15-a5b2-a964a62de3e1",
   "metadata": {},
   "source": [
    "# Analytical Solution Contour Plot"
   ]
  },
  {
   "cell_type": "markdown",
   "id": "adb17380-12e9-4956-bb3c-1cece5cae5ff",
   "metadata": {},
   "source": [
    "**********************************************"
   ]
  },
  {
   "cell_type": "code",
   "execution_count": 42,
   "id": "82f9e7dd-06f9-42fb-b37c-3c1093152245",
   "metadata": {},
   "outputs": [],
   "source": [
    "pts = 250\n",
    "Analytical_Solution_Contour_Plot(pts,u,v,Gamma_phi,\"Analytical_Contour.svg\")"
   ]
  },
  {
   "cell_type": "markdown",
   "id": "1abfefa1-b3fe-48aa-a6f3-78197c6c378d",
   "metadata": {},
   "source": [
    "***********************************"
   ]
  },
  {
   "cell_type": "markdown",
   "id": "474978d0-a6df-46e9-8fe6-31eeb67a9524",
   "metadata": {},
   "source": [
    "# Analytical Solution"
   ]
  },
  {
   "cell_type": "markdown",
   "id": "a539c9d0-8ee1-4161-90bc-7b2edecb9b5e",
   "metadata": {},
   "source": [
    "***********************************************"
   ]
  },
  {
   "cell_type": "code",
   "execution_count": 43,
   "id": "4898c09d-e626-46d2-9183-10015754720c",
   "metadata": {},
   "outputs": [],
   "source": [
    "Anal_sol_over_Area, Num_sol_over_Area = Sol_Over_Area(u,v,Gamma_phi,phi_0,Element_Area)"
   ]
  },
  {
   "cell_type": "code",
   "execution_count": 44,
   "id": "cdadc6d9-fade-4f74-bb51-0b737925a7f1",
   "metadata": {},
   "outputs": [],
   "source": [
    "Element_cen_phi_Actual = Analytical_Solution(Element_cen,V,Gamma_phi)"
   ]
  },
  {
   "cell_type": "code",
   "execution_count": 45,
   "id": "5518b0da-64c5-4ea5-aadf-761d621e2ba6",
   "metadata": {},
   "outputs": [],
   "source": [
    "Element_Vertex_Avg_sol = Element_Vertex_Avg_Anal_Sol(Num_Triangles,Element_Node_Connectivity_new,Node_Coordinates,V,Gamma_phi)"
   ]
  },
  {
   "cell_type": "markdown",
   "id": "ce2f18bd-6b61-46d1-8232-fb5e0c6f1874",
   "metadata": {},
   "source": [
    "*****************************************************"
   ]
  },
  {
   "cell_type": "markdown",
   "id": "aed1d3b0-0bb8-4a09-b9db-33eab2673f9f",
   "metadata": {},
   "source": [
    "# Error"
   ]
  },
  {
   "cell_type": "markdown",
   "id": "7c936f3e-d400-4461-a558-cbd2357e960d",
   "metadata": {},
   "source": [
    "**************************************"
   ]
  },
  {
   "cell_type": "code",
   "execution_count": 46,
   "id": "2b8c25c0-f062-49e1-acf8-3fc4489476c1",
   "metadata": {},
   "outputs": [],
   "source": [
    "# Calculates the exact error using the solution at the centroid of the element\n",
    "# error = Error_Estimate_CDAS(Element_cen_phi_Actual,phi_0,Element_Area)\n",
    "\n",
    "# Calculates the exact error using the average of the solution at the vertices of the element\n",
    "# error = Error_Estimate_CDEVAAS(Element_Vertex_Avg_sol,phi_0,Element_Area)\n",
    "\n",
    "# Calculates the error estimate using: (phi_0 - phi_0_u)*(|Gradient(phi_0)|)*(Element_Area)\n",
    "# error,mod_grad = Error_Estimate_EMGA(phi_0,phi_0_u,Element_Element_Connectivity_new,Element_cen,Element_Area)"
   ]
  },
  {
   "cell_type": "code",
   "execution_count": 47,
   "id": "bd01c4f9-0ad8-425f-9a62-1625b4c18b51",
   "metadata": {},
   "outputs": [],
   "source": [
    "# Post_Process_Without_Grid(mod_grad,r\"$|\\nabla\\Phi|$\",Element_Node_Connectivity_new,Node_Coordinates,Img_file)"
   ]
  },
  {
   "cell_type": "code",
   "execution_count": 48,
   "id": "ddd674de-9f54-43b7-ba4f-f46ebb423a93",
   "metadata": {},
   "outputs": [],
   "source": [
    "# Error_Discrete = abs(error)"
   ]
  },
  {
   "cell_type": "code",
   "execution_count": 49,
   "id": "7b6df385-ee5e-4472-a098-c90b35f8d6f0",
   "metadata": {},
   "outputs": [],
   "source": [
    "# Post_Process(Error_Discrete,\"Error Estimate\",Element_Node_Connectivity_new,Node_Coordinates,Img_file)"
   ]
  },
  {
   "cell_type": "code",
   "execution_count": 50,
   "id": "08e3c9bb-0974-4db0-9e47-1ef7c359595b",
   "metadata": {},
   "outputs": [],
   "source": [
    "# Post_Process_Without_Grid(Error_Discrete,\"Error Estimate\",Element_Node_Connectivity_new,Node_Coordinates,Img_file)"
   ]
  },
  {
   "cell_type": "code",
   "execution_count": 51,
   "id": "b073e503-086f-435b-9018-f154d541f8d5",
   "metadata": {},
   "outputs": [],
   "source": [
    "# Post_Process((Error_Discrete/Error_Discrete.mean())*Element_Area[:,1],\"Mean Ratio True Error\",Element_Node_Connectivity_new,Node_Coordinates,Img_file)"
   ]
  },
  {
   "cell_type": "code",
   "execution_count": 52,
   "id": "9f4cfafe-55f5-4f7d-8c2d-5b3976770e34",
   "metadata": {},
   "outputs": [],
   "source": [
    "Post_Process(phi_0,r\"$\\Phi$\",Element_Node_Connectivity_new,Node_Coordinates,\"phi_0.svg\")"
   ]
  },
  {
   "cell_type": "code",
   "execution_count": 53,
   "id": "b76e4830-a63c-4938-9c9e-8a584c677d44",
   "metadata": {},
   "outputs": [],
   "source": [
    "Post_Process_Without_Grid(phi_0,r\"$\\Phi$\",Element_Node_Connectivity_new,Node_Coordinates,\"phi_0_without_grid.svg\")"
   ]
  },
  {
   "cell_type": "code",
   "execution_count": 54,
   "id": "6ef8c049-6e64-4290-970e-ddb1ce0ccf1d",
   "metadata": {},
   "outputs": [],
   "source": [
    "# Post_Process(Element_cen_phi_Actual,r\"$\\Phi: Actual$\",Element_Node_Connectivity_new,Node_Coordinates,Img_file)"
   ]
  }
 ],
 "metadata": {
  "kernelspec": {
   "display_name": "Python 3 (ipykernel)",
   "language": "python",
   "name": "python3"
  },
  "language_info": {
   "codemirror_mode": {
    "name": "ipython",
    "version": 3
   },
   "file_extension": ".py",
   "mimetype": "text/x-python",
   "name": "python",
   "nbconvert_exporter": "python",
   "pygments_lexer": "ipython3",
   "version": "3.11.7"
  }
 },
 "nbformat": 4,
 "nbformat_minor": 5
}
