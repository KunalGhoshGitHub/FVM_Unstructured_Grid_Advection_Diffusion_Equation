{
 "cells": [
  {
   "cell_type": "markdown",
   "id": "b0dceffc",
   "metadata": {},
   "source": [
    "# Importing necessary libraries:"
   ]
  },
  {
   "cell_type": "markdown",
   "id": "0d4e9f69",
   "metadata": {},
   "source": [
    "******************************************************"
   ]
  },
  {
   "cell_type": "code",
   "execution_count": 1,
   "id": "4ee0141c",
   "metadata": {},
   "outputs": [],
   "source": [
    "import numpy as np"
   ]
  },
  {
   "cell_type": "markdown",
   "id": "6c7c5ae7",
   "metadata": {},
   "source": [
    "****************************************************"
   ]
  },
  {
   "cell_type": "code",
   "execution_count": 2,
   "id": "59a2fc1b-f10e-4055-a06c-c6741ec173af",
   "metadata": {},
   "outputs": [],
   "source": [
    "def Cen_Error_Data_Writer(Error_Discrete,Element_Area,Anal_sol_over_Area,Num_sol_over_Area,Num_Triangles,u,v,Gamma_phi):\n",
    "    L1 = Error_Discrete.sum()\n",
    "    L2 = (np.sum(Error_Discrete**2))**0.5\n",
    "    Linf = Error_Discrete.max()\n",
    "    E_A = np.sum(Error_Discrete*Element_Area[:,1])\n",
    "    Error_File = open(\"Error_Data.csv\",\"a+\")\n",
    "    Error_Data = f\"{Anal_sol_over_Area - Num_sol_over_Area},{Anal_sol_over_Area},{Num_sol_over_Area},{Num_Triangles},{E_A},{L1},{L2},{Linf},{u},{v},{Gamma_phi}\\n\"\n",
    "    Error_File.write(Error_Data)\n",
    "    Error_File.close()"
   ]
  },
  {
   "cell_type": "code",
   "execution_count": 3,
   "id": "3ca1ad94-b7e2-4e28-90f0-3c0aa16acb49",
   "metadata": {},
   "outputs": [],
   "source": [
    "def Vertex_Based_Error_Data_Writer(Element_Vertex_Avg_sol,phi_0,Num_Triangles,Element_Area,u,v,Gamma_phi):\n",
    "    Vertex_Error = np.abs(Element_Vertex_Avg_sol[:,1] - phi_0)\n",
    "    Error_File = open(\"Vertex_Based_Error_Data.csv\",\"a+\")\n",
    "    Error_Data = f\"{Vertex_Error.sum()},{(np.sum(Vertex_Error**2))**0.5},{Vertex_Error.max()},{Num_Triangles},{np.sum(Vertex_Error*Element_Area[:,1])},{u},{v},{Gamma_phi}\\n\"\n",
    "    Error_File.write(Error_Data)\n",
    "    Error_File.close()"
   ]
  }
 ],
 "metadata": {
  "kernelspec": {
   "display_name": "Python 3 (ipykernel)",
   "language": "python",
   "name": "python3"
  },
  "language_info": {
   "codemirror_mode": {
    "name": "ipython",
    "version": 3
   },
   "file_extension": ".py",
   "mimetype": "text/x-python",
   "name": "python",
   "nbconvert_exporter": "python",
   "pygments_lexer": "ipython3",
   "version": "3.11.7"
  }
 },
 "nbformat": 4,
 "nbformat_minor": 5
}
