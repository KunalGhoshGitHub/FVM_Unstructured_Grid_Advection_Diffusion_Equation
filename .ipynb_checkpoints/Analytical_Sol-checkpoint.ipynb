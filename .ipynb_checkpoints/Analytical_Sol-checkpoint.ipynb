{
 "cells": [
  {
   "cell_type": "markdown",
   "id": "b0dceffc",
   "metadata": {},
   "source": [
    "# Importing necessary libraries:"
   ]
  },
  {
   "cell_type": "markdown",
   "id": "0d4e9f69",
   "metadata": {},
   "source": [
    "******************************************************"
   ]
  },
  {
   "cell_type": "code",
   "execution_count": 1,
   "id": "4ee0141c",
   "metadata": {},
   "outputs": [],
   "source": [
    "import numpy as np"
   ]
  },
  {
   "cell_type": "markdown",
   "id": "6f6ce976-66f7-4a88-a1b4-8b0a0e409b40",
   "metadata": {},
   "source": [
    "****************************************"
   ]
  },
  {
   "cell_type": "code",
   "execution_count": 2,
   "id": "09803033-bf66-4dac-b5bc-1b75be3a828d",
   "metadata": {},
   "outputs": [],
   "source": [
    "def Sol_Over_Area(u,v,Gamma_phi,phi_0,Element_Area):\n",
    "    Anal_sol_over_Area = (0.5 - (1/(1 - (np.exp(u/Gamma_phi)))) - (Gamma_phi/u))*((0.5 - (1/(1 - (np.exp(v/Gamma_phi)))) - (Gamma_phi/v)))\n",
    "    Num_sol_over_Area = phi_0@Element_Area[:,1]\n",
    "    return Anal_sol_over_Area, Num_sol_over_Area"
   ]
  },
  {
   "cell_type": "code",
   "execution_count": 3,
   "id": "a82b4969",
   "metadata": {},
   "outputs": [],
   "source": [
    "def Analytical_Solution(Element_cen,V,Gamma_phi):\n",
    "    \"\"\"\n",
    "    Input:\n",
    "    Element_cen: Centroid of the element\n",
    "    V: np.array([u,v])\n",
    "    Gamma_phi: Diffusion coefficients\n",
    "    \n",
    "    Output:\n",
    "    Element_cen_phi_Actual: Analytical solution at the cell centroid\n",
    "    \"\"\"\n",
    "    u = V[0]\n",
    "    v = V[1]\n",
    "    x = Element_cen[:,1]\n",
    "    y = Element_cen[:,2]\n",
    "    term_x = (x + (((np.exp(u*x/Gamma_phi) - 1))/(1-(np.exp(u/Gamma_phi)))))\n",
    "    term_y = (y + (((np.exp(v*y/Gamma_phi) - 1))/(1-(np.exp(v/Gamma_phi)))))\n",
    "    Element_cen_phi_Actual = term_x*term_y\n",
    "    \n",
    "    return Element_cen_phi_Actual"
   ]
  },
  {
   "cell_type": "code",
   "execution_count": 4,
   "id": "9a93471e-c3c1-4476-a357-3204eec5ea19",
   "metadata": {},
   "outputs": [],
   "source": [
    "def Element_Vertex_Avg_Anal_Sol(Num_Triangles,Element_Node_Connectivity_new,Node_Coordinates,V,Gamma_phi):\n",
    "    \"\"\"\n",
    "    Calculates the average of the analytical solution at the vertices of the element\n",
    "    \"\"\"\n",
    "    Element_Vertex_Avg_sol = np.zeros((Num_Triangles,2))\n",
    "    for i in range(Element_Node_Connectivity_new.shape[0]):\n",
    "        Element = Element_Node_Connectivity_new[i,0]\n",
    "        Nodes = Element_Node_Connectivity_new[i,1:]\n",
    "        sol = 0\n",
    "        for j in range(Nodes.shape[0]):\n",
    "            node = Nodes[j]\n",
    "            Coordinates = Node_Coordinates[int(node)]\n",
    "            Coordinates = Coordinates[0:2]\n",
    "            u = V[0]\n",
    "            v = V[1]\n",
    "            x = Coordinates[0]\n",
    "            y = Coordinates[1]\n",
    "            term_x = (x + (((np.exp(u*x/Gamma_phi) - 1))/(1-(np.exp(u/Gamma_phi)))))\n",
    "            term_y = (y + (((np.exp(v*y/Gamma_phi) - 1))/(1-(np.exp(v/Gamma_phi)))))\n",
    "            sol =  sol + term_x*term_y\n",
    "        sol = sol/3\n",
    "        Element_Vertex_Avg_sol[i,0] = Element\n",
    "        Element_Vertex_Avg_sol[i,1] = sol\n",
    "        \n",
    "    return Element_Vertex_Avg_sol"
   ]
  }
 ],
 "metadata": {
  "kernelspec": {
   "display_name": "Python 3 (ipykernel)",
   "language": "python",
   "name": "python3"
  },
  "language_info": {
   "codemirror_mode": {
    "name": "ipython",
    "version": 3
   },
   "file_extension": ".py",
   "mimetype": "text/x-python",
   "name": "python",
   "nbconvert_exporter": "python",
   "pygments_lexer": "ipython3",
   "version": "3.11.7"
  }
 },
 "nbformat": 4,
 "nbformat_minor": 5
}
