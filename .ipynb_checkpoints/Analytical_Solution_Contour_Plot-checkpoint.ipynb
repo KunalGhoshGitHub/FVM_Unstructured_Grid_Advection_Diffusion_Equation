{
 "cells": [
  {
   "cell_type": "markdown",
   "id": "b0dceffc",
   "metadata": {},
   "source": [
    "# Importing necessary libraries:"
   ]
  },
  {
   "cell_type": "markdown",
   "id": "0d4e9f69",
   "metadata": {},
   "source": [
    "******************************************************"
   ]
  },
  {
   "cell_type": "code",
   "execution_count": 1,
   "id": "4ee0141c",
   "metadata": {},
   "outputs": [],
   "source": [
    "import numpy as np"
   ]
  },
  {
   "cell_type": "code",
   "execution_count": 2,
   "id": "846bc60b",
   "metadata": {},
   "outputs": [],
   "source": [
    "import matplotlib.pyplot as plt"
   ]
  },
  {
   "cell_type": "code",
   "execution_count": 3,
   "id": "5619448b-f1bc-4052-b8c9-070eb01a0366",
   "metadata": {},
   "outputs": [],
   "source": [
    "import matplotlib"
   ]
  },
  {
   "cell_type": "code",
   "execution_count": 4,
   "id": "f88fdd88-1b8a-4f55-818d-63fb31387dd2",
   "metadata": {},
   "outputs": [],
   "source": [
    "from matplotlib.colors import Normalize"
   ]
  },
  {
   "cell_type": "markdown",
   "id": "6f6ce976-66f7-4a88-a1b4-8b0a0e409b40",
   "metadata": {},
   "source": [
    "****************************************"
   ]
  },
  {
   "cell_type": "markdown",
   "id": "15942674-4176-41df-8415-e26255a7c357",
   "metadata": {},
   "source": [
    "# Analytical Solution Contour Plot"
   ]
  },
  {
   "cell_type": "markdown",
   "id": "4d659bf8-c4cc-49d8-be1a-ded964c2ea1a",
   "metadata": {},
   "source": [
    "*************************************************"
   ]
  },
  {
   "cell_type": "code",
   "execution_count": 5,
   "id": "fb32b20b-b581-47aa-9dae-79d0e5baf842",
   "metadata": {},
   "outputs": [],
   "source": [
    "def Analytical_Solution_Contour_Plot(pts,u,v,Gamma_phi,Img_File):\n",
    "    x = np.linspace(0,1,pts)\n",
    "    y = np.linspace(0,1,pts)\n",
    "    xv, yv = np.meshgrid(x, y, indexing='ij')\n",
    "    term_x = (xv + (((np.exp(u*xv/Gamma_phi) - 1))/(1-(np.exp(u/Gamma_phi)))))\n",
    "    term_y = (yv + (((np.exp(v*yv/Gamma_phi) - 1))/(1-(np.exp(v/Gamma_phi)))))\n",
    "    Ans = term_x*term_y\n",
    "    plt.contourf(x,y,Ans, cmap = \"turbo\")\n",
    "    plt.axis(\"scaled\")\n",
    "    plt.title(\"Analytical Solution\")\n",
    "    plt.colorbar()\n",
    "    plt.savefig(Img_File)\n",
    "    # plt.show()\n",
    "    plt.close()"
   ]
  }
 ],
 "metadata": {
  "kernelspec": {
   "display_name": "Python 3 (ipykernel)",
   "language": "python",
   "name": "python3"
  },
  "language_info": {
   "codemirror_mode": {
    "name": "ipython",
    "version": 3
   },
   "file_extension": ".py",
   "mimetype": "text/x-python",
   "name": "python",
   "nbconvert_exporter": "python",
   "pygments_lexer": "ipython3",
   "version": "3.11.7"
  }
 },
 "nbformat": 4,
 "nbformat_minor": 5
}
