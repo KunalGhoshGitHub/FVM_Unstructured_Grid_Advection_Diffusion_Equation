{
 "cells": [
  {
   "cell_type": "markdown",
   "id": "b0dceffc",
   "metadata": {},
   "source": [
    "# Importing necessary libraries:"
   ]
  },
  {
   "cell_type": "markdown",
   "id": "0d4e9f69",
   "metadata": {},
   "source": [
    "******************************************************"
   ]
  },
  {
   "cell_type": "code",
   "execution_count": 1,
   "id": "4ee0141c",
   "metadata": {},
   "outputs": [],
   "source": [
    "import numpy as np"
   ]
  },
  {
   "cell_type": "code",
   "execution_count": 2,
   "id": "d82dc8ff-85df-44ca-ad72-cc18aa3ebaae",
   "metadata": {},
   "outputs": [],
   "source": [
    "from numba import jit"
   ]
  },
  {
   "cell_type": "markdown",
   "id": "6c7c5ae7",
   "metadata": {},
   "source": [
    "****************************************************"
   ]
  },
  {
   "cell_type": "code",
   "execution_count": 3,
   "id": "c509f8f7-f62f-4a92-86ec-39a6a0cd5f0b",
   "metadata": {},
   "outputs": [],
   "source": [
    "@jit(nopython=True)\n",
    "def Calculate_Optimal_Mesh_Density(Error_Discrete,Element_Area,Target_Dof,p,D,q):\n",
    "    \"\"\"\n",
    "    Calculates the optimal mesh density (Rangarajan's Thesis: d*)\n",
    "    \"\"\"\n",
    "    I_c = Element_Area[:,1]\n",
    "    var_0 = ((p+1)+D)/D\n",
    "    var_1 = D*q/((q*(p+1))+D)\n",
    "    n_h = Target_Dof\n",
    "    kappa = I_c\n",
    "    alpha = (3**0.5)/4\n",
    "    N = alpha*n_h\n",
    "    A_bar = Error_Discrete*(var_0)*(alpha**((p+1)/D))*(kappa**(-var_0))\n",
    "    d = N*(A_bar**(var_1))/(np.sum((A_bar**(var_1))*kappa))\n",
    "\n",
    "    return d"
   ]
  },
  {
   "cell_type": "markdown",
   "id": "14ef42b9",
   "metadata": {},
   "source": [
    "## We need to scale the metric"
   ]
  },
  {
   "cell_type": "code",
   "execution_count": 4,
   "id": "e8ecca1b",
   "metadata": {},
   "outputs": [],
   "source": [
    "@jit(nopython=True)\n",
    "def Metric_Scale_Calculate(Target_Dof,Num_Triangles,metric_term_a_element,Element_Area):\n",
    "    \"\"\"\n",
    "    Input:\n",
    "    Target_Dof: Target number of the cells\n",
    "    Num_Triangles: Number of the triangles\n",
    "    metric_term_a_element: a term of the metric\n",
    "    Element_Area: Area of the element\n",
    "    \n",
    "    Output:\n",
    "    metric_scale: The scale to ensure Target_Dof\n",
    "    \"\"\"\n",
    "    dof_met = 0\n",
    "\n",
    "    for i in range(Num_Triangles):\n",
    "        det = metric_term_a_element[i]**2\n",
    "        dof_met = dof_met + ((det**0.5)*Element_Area[i,1])\n",
    "    dof_met = dof_met*4/(3**0.5)\n",
    "    # dof_met = dof_met/0.46\n",
    "\n",
    "    dof_t = Target_Dof\n",
    "\n",
    "    metric_scale = dof_t/dof_met\n",
    "    \n",
    "    return metric_scale"
   ]
  },
  {
   "cell_type": "code",
   "execution_count": 5,
   "id": "511827d2",
   "metadata": {},
   "outputs": [],
   "source": [
    "@jit(nopython=True)\n",
    "def Node_Wise_Metric(metric_term_a_element,Node_Coordinates,Element_Node_Connectivity_new,Element_Area):\n",
    "    Num_Triangles = metric_term_a_element.shape[0]\n",
    "    Node_metric = np.zeros(Node_Coordinates.shape[0])\n",
    "    for i in range(Node_Coordinates.shape[0]):\n",
    "        Element_Area_sum = 0\n",
    "        for j in range(Num_Triangles):\n",
    "            Nodes = Element_Node_Connectivity_new[j,1:]\n",
    "            for k in range(Nodes.shape[0]):\n",
    "                if Nodes[k] == i:\n",
    "                    Node_metric[i] = Node_metric[i] + (metric_term_a_element[j]*Element_Area[j,1])\n",
    "                    Element_Area_sum = Element_Area_sum + Element_Area[j,1]\n",
    "        Node_metric[i] = Node_metric[i]/Element_Area_sum\n",
    "    return Node_metric"
   ]
  },
  {
   "cell_type": "code",
   "execution_count": 6,
   "id": "1051b169",
   "metadata": {},
   "outputs": [],
   "source": [
    "def metric_file_writer(adj_metric_file,Node_Coordinates,Node_metric):\n",
    "    Adj_metric_string = \"\" + str(Node_Coordinates.shape[0])+ \" 3\\n\"\n",
    "    \n",
    "    for i in range(Node_Coordinates.shape[0]):\n",
    "        Adj_metric_string = Adj_metric_string +str(Node_metric[i]) + \"  0  \" + str(Node_metric[i])  +\"\\n\"\n",
    "\n",
    "    metric_file = open(adj_metric_file,\"w\")\n",
    "    metric_file.write(Adj_metric_string)\n",
    "    status = metric_file.close()\n",
    "    \n",
    "    return status"
   ]
  },
  {
   "cell_type": "code",
   "execution_count": 7,
   "id": "b1afaba8-2502-4664-b291-c4bdb653ca61",
   "metadata": {},
   "outputs": [],
   "source": [
    "def Adapted_mesh_file_writer(Adapted_mesh_file_name):\n",
    "    Adapted_mesh_file = open(f\"{Adapted_mesh_file_name}\",\"r\")\n",
    "    Adapted_mesh_file_content = Adapted_mesh_file.read()\n",
    "    Adapted_mesh_file.close()\n",
    "    Adapted_mesh_file_content = Adapted_mesh_file_content.replace(\"MeshVersionFormatted 0\",\"MeshVersionFormatted 1\")\n",
    "    Adapted_mesh_file = open(f\"{Adapted_mesh_file_name}\",\"w\")\n",
    "    Adapted_mesh_file.write(Adapted_mesh_file_content)\n",
    "    Adapted_mesh_file.close()"
   ]
  },
  {
   "cell_type": "code",
   "execution_count": 8,
   "id": "269c351c",
   "metadata": {},
   "outputs": [],
   "source": [
    "@jit(nopython=True)\n",
    "def Plot_Edge_Number_Cell_Number(Node_Coordinates,Element_Node_Connectivity,Face_Centroid,Element_cen):\n",
    "    \"\"\"\n",
    "    Input:\n",
    "    Node_Coordinates: Node Coordinates (Previously Calculated)\n",
    "    Element_Node_Connectivity: Element Node Connectivity (Previously Calculated)\n",
    "    Face_Centroid: Face Centroid (Previously Calculated)\n",
    "    \n",
    "    Output:\n",
    "    This function plots mesh with edge number and cell number\n",
    "    \"\"\"\n",
    "    temp = np.zeros((4,2))\n",
    "    x = Node_Coordinates[:,0]\n",
    "    y = Node_Coordinates[:,1]\n",
    "    for i in range(Element_Node_Connectivity.shape[0]):\n",
    "        Nodes = Element_Node_Connectivity[i,1:]\n",
    "        Nodes = np.array(Nodes,dtype = int)\n",
    "        temp[:3,0] = x[Nodes]\n",
    "        temp[:3,1] = y[Nodes]\n",
    "        temp[-1,0] = x[Nodes[0]]\n",
    "        temp[-1,1] = y[Nodes[0]]\n",
    "        X = temp[:,0]\n",
    "        Y = temp[:,1]\n",
    "        plt.plot(X,Y)\n",
    "        # plt.plot(x[Nodes[0]],y[Nodes[0]],\"-b*\")\n",
    "    # plt.plot(Face_Centroid[:,1],Face_Centroid[:,2],\"gd\")\n",
    "    # for i in range(Num_Edges):\n",
    "        # plt.text(Face_Centroid[i,1],Face_Centroid[i,2],int(Face_Centroid[i,0]))\n",
    "    for i in range(Num_Triangles):\n",
    "        plt.text(Element_cen[i,1],Element_cen[i,2],int(Element_cen[i,0]))\n",
    "    plt.axis('scaled')\n",
    "    plt.show()"
   ]
  }
 ],
 "metadata": {
  "kernelspec": {
   "display_name": "Python 3 (ipykernel)",
   "language": "python",
   "name": "python3"
  },
  "language_info": {
   "codemirror_mode": {
    "name": "ipython",
    "version": 3
   },
   "file_extension": ".py",
   "mimetype": "text/x-python",
   "name": "python",
   "nbconvert_exporter": "python",
   "pygments_lexer": "ipython3",
   "version": "3.11.7"
  }
 },
 "nbformat": 4,
 "nbformat_minor": 5
}
