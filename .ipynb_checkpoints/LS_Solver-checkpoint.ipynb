{
 "cells": [
  {
   "cell_type": "markdown",
   "id": "b0dceffc",
   "metadata": {},
   "source": [
    "# Importing necessary libraries:"
   ]
  },
  {
   "cell_type": "markdown",
   "id": "0d4e9f69",
   "metadata": {},
   "source": [
    "******************************************************"
   ]
  },
  {
   "cell_type": "code",
   "execution_count": 1,
   "id": "4ee0141c",
   "metadata": {},
   "outputs": [],
   "source": [
    "import numpy as np"
   ]
  },
  {
   "cell_type": "code",
   "execution_count": 2,
   "id": "46e86a8a-5565-46bc-b1ff-e9dafce5161f",
   "metadata": {},
   "outputs": [],
   "source": [
    "import scipy"
   ]
  },
  {
   "cell_type": "code",
   "execution_count": 3,
   "id": "d82dc8ff-85df-44ca-ad72-cc18aa3ebaae",
   "metadata": {},
   "outputs": [],
   "source": [
    "from numba import jit"
   ]
  },
  {
   "cell_type": "markdown",
   "id": "12bae527",
   "metadata": {},
   "source": [
    "# Least Square Solver:"
   ]
  },
  {
   "cell_type": "markdown",
   "id": "310a9a5f",
   "metadata": {},
   "source": [
    "*************************************"
   ]
  },
  {
   "cell_type": "markdown",
   "id": "b3dbd925",
   "metadata": {},
   "source": [
    "$$\\begin{pmatrix}\n",
    "\\Delta x_1 & \\Delta y_1 \\\\\n",
    "\\Delta x_2 & \\Delta y_2 \\\\\n",
    "\\Delta x_3 & \\Delta y_3 \\\\\n",
    "\\vdots & \\vdots\\\\\n",
    "\\Delta x_m & \\Delta y_m \\\\\n",
    "\\end{pmatrix} \n",
    "\\begin{pmatrix}\n",
    "\\left(\\frac{\\partial \\phi}{\\partial x}\\right)_P\\\\\n",
    "\\left(\\frac{\\partial \\phi}{\\partial y}\\right)_P\\\\\n",
    "\\end{pmatrix}\n",
    "=\n",
    "\\begin{pmatrix}\n",
    "\\Delta \\phi_{N_{k1}} - \\phi_P\\\\\n",
    "\\Delta \\phi_{N_{k2}} - \\phi_P\\\\\n",
    "\\Delta \\phi_{N_{k3}} - \\phi_P\\\\\n",
    "\\vdots\\\\\n",
    "\\Delta \\phi_{N_{km}} - \\phi_P\\\\\n",
    "\\end{pmatrix} $$"
   ]
  },
  {
   "cell_type": "markdown",
   "id": "afba1f08",
   "metadata": {},
   "source": [
    "# This can be written as AX = b"
   ]
  },
  {
   "cell_type": "markdown",
   "id": "bc5bd639",
   "metadata": {},
   "source": [
    "# This can be solved as a Least square problem"
   ]
  },
  {
   "cell_type": "code",
   "execution_count": 4,
   "id": "0ac66e8b",
   "metadata": {},
   "outputs": [],
   "source": [
    "@jit(nopython=True)\n",
    "def Grad_Phi_LS(Element_Element_Connectivity_new,Element_cen,phi_0):\n",
    "    \"\"\"\n",
    "    Input:\n",
    "    Element_Element_Connectivity_new: Element Element Connectivity new (Previously Calculated)\n",
    "    Element_cen: Element cen (Previousy Calculated)\n",
    "    phi_0: Solution of phi at the last iteration or time step\n",
    "    \n",
    "    Output:\n",
    "    Element_grad_phi: grad phi at the centroid of the element\n",
    "    \"\"\"\n",
    "    dim = 2\n",
    "    Num_Triangles = Element_Element_Connectivity_new.shape[0]\n",
    "    Element_grad_phi = np.zeros((Num_Triangles,3))\n",
    "    \n",
    "    # Debug script:\n",
    "    # Element_with_two_boundary_edges = np.zeros((Num_Triangles,2)) - 1\n",
    "    \n",
    "    for i in range(Num_Triangles):\n",
    "        Element = Element_Element_Connectivity_new[i,0]\n",
    "        Nb_Elements = Element_Element_Connectivity_new[i,1:]\n",
    "        cen = Element_cen[int(Element),1:]\n",
    "        num_nb = Nb_Elements.shape[0]\n",
    "        temp = np.zeros((num_nb,dim))\n",
    "        temp_rhs = np.zeros((num_nb))\n",
    "        \n",
    "        Element_grad_phi[i,0] = Element\n",
    "        \n",
    "        # Debug script:\n",
    "        # print(Element)\n",
    "        \n",
    "        for j in range(Nb_Elements.shape[0]):\n",
    "            \n",
    "            # Debug script:\n",
    "            # if j == Element:\n",
    "                # reflection_ctr = reflection_ctr + 1\n",
    "            \n",
    "            cen_nb = Element_cen[int(Nb_Elements[j]),1:]\n",
    "            p_Nb_vec = cen_nb - cen\n",
    "            temp[j,:] = p_Nb_vec\n",
    "            temp_rhs[j] = phi_0[Nb_Elements[j]] - phi_0[Element]\n",
    "            \n",
    "            grad = np.linalg.lstsq(temp,temp_rhs,rcond=-1)[0]\n",
    "            \n",
    "            # Debug script:\n",
    "            # print(grad)\n",
    "            \n",
    "            Element_grad_phi[i,1:] = grad\n",
    "\n",
    "    return Element_grad_phi"
   ]
  }
 ],
 "metadata": {
  "kernelspec": {
   "display_name": "Python 3 (ipykernel)",
   "language": "python",
   "name": "python3"
  },
  "language_info": {
   "codemirror_mode": {
    "name": "ipython",
    "version": 3
   },
   "file_extension": ".py",
   "mimetype": "text/x-python",
   "name": "python",
   "nbconvert_exporter": "python",
   "pygments_lexer": "ipython3",
   "version": "3.11.7"
  }
 },
 "nbformat": 4,
 "nbformat_minor": 5
}
